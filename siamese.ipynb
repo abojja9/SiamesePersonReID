{
 "cells": [
  {
   "cell_type": "code",
   "execution_count": 4,
   "metadata": {},
   "outputs": [
    {
     "name": "stderr",
     "output_type": "stream",
     "text": [
      "/home/abhi/.local/lib/python3.6/site-packages/tensorflow/python/framework/dtypes.py:516: FutureWarning: Passing (type, 1) or '1type' as a synonym of type is deprecated; in a future version of numpy, it will be understood as (type, (1,)) / '(1,)type'.\n",
      "  _np_qint8 = np.dtype([(\"qint8\", np.int8, 1)])\n",
      "/home/abhi/.local/lib/python3.6/site-packages/tensorflow/python/framework/dtypes.py:517: FutureWarning: Passing (type, 1) or '1type' as a synonym of type is deprecated; in a future version of numpy, it will be understood as (type, (1,)) / '(1,)type'.\n",
      "  _np_quint8 = np.dtype([(\"quint8\", np.uint8, 1)])\n",
      "/home/abhi/.local/lib/python3.6/site-packages/tensorflow/python/framework/dtypes.py:518: FutureWarning: Passing (type, 1) or '1type' as a synonym of type is deprecated; in a future version of numpy, it will be understood as (type, (1,)) / '(1,)type'.\n",
      "  _np_qint16 = np.dtype([(\"qint16\", np.int16, 1)])\n",
      "/home/abhi/.local/lib/python3.6/site-packages/tensorflow/python/framework/dtypes.py:519: FutureWarning: Passing (type, 1) or '1type' as a synonym of type is deprecated; in a future version of numpy, it will be understood as (type, (1,)) / '(1,)type'.\n",
      "  _np_quint16 = np.dtype([(\"quint16\", np.uint16, 1)])\n",
      "/home/abhi/.local/lib/python3.6/site-packages/tensorflow/python/framework/dtypes.py:520: FutureWarning: Passing (type, 1) or '1type' as a synonym of type is deprecated; in a future version of numpy, it will be understood as (type, (1,)) / '(1,)type'.\n",
      "  _np_qint32 = np.dtype([(\"qint32\", np.int32, 1)])\n",
      "/home/abhi/.local/lib/python3.6/site-packages/tensorflow/python/framework/dtypes.py:525: FutureWarning: Passing (type, 1) or '1type' as a synonym of type is deprecated; in a future version of numpy, it will be understood as (type, (1,)) / '(1,)type'.\n",
      "  np_resource = np.dtype([(\"resource\", np.ubyte, 1)])\n",
      "/home/abhi/.local/lib/python3.6/site-packages/tensorboard/compat/tensorflow_stub/dtypes.py:541: FutureWarning: Passing (type, 1) or '1type' as a synonym of type is deprecated; in a future version of numpy, it will be understood as (type, (1,)) / '(1,)type'.\n",
      "  _np_qint8 = np.dtype([(\"qint8\", np.int8, 1)])\n",
      "/home/abhi/.local/lib/python3.6/site-packages/tensorboard/compat/tensorflow_stub/dtypes.py:542: FutureWarning: Passing (type, 1) or '1type' as a synonym of type is deprecated; in a future version of numpy, it will be understood as (type, (1,)) / '(1,)type'.\n",
      "  _np_quint8 = np.dtype([(\"quint8\", np.uint8, 1)])\n",
      "/home/abhi/.local/lib/python3.6/site-packages/tensorboard/compat/tensorflow_stub/dtypes.py:543: FutureWarning: Passing (type, 1) or '1type' as a synonym of type is deprecated; in a future version of numpy, it will be understood as (type, (1,)) / '(1,)type'.\n",
      "  _np_qint16 = np.dtype([(\"qint16\", np.int16, 1)])\n",
      "/home/abhi/.local/lib/python3.6/site-packages/tensorboard/compat/tensorflow_stub/dtypes.py:544: FutureWarning: Passing (type, 1) or '1type' as a synonym of type is deprecated; in a future version of numpy, it will be understood as (type, (1,)) / '(1,)type'.\n",
      "  _np_quint16 = np.dtype([(\"quint16\", np.uint16, 1)])\n",
      "/home/abhi/.local/lib/python3.6/site-packages/tensorboard/compat/tensorflow_stub/dtypes.py:545: FutureWarning: Passing (type, 1) or '1type' as a synonym of type is deprecated; in a future version of numpy, it will be understood as (type, (1,)) / '(1,)type'.\n",
      "  _np_qint32 = np.dtype([(\"qint32\", np.int32, 1)])\n",
      "/home/abhi/.local/lib/python3.6/site-packages/tensorboard/compat/tensorflow_stub/dtypes.py:550: FutureWarning: Passing (type, 1) or '1type' as a synonym of type is deprecated; in a future version of numpy, it will be understood as (type, (1,)) / '(1,)type'.\n",
      "  np_resource = np.dtype([(\"resource\", np.ubyte, 1)])\n"
     ]
    }
   ],
   "source": [
    "import tensorflow as tf\n",
    "import os\n",
    "import glob\n",
    "import numpy as np\n",
    "import argparse\n",
    "from pathlib import Path"
   ]
  },
  {
   "cell_type": "code",
   "execution_count": 53,
   "metadata": {},
   "outputs": [
    {
     "data": {
      "text/plain": [
       "\u001b[0;31mSignature:\u001b[0m \u001b[0mtf\u001b[0m\u001b[0;34m.\u001b[0m\u001b[0mkeras\u001b[0m\u001b[0;34m.\u001b[0m\u001b[0mapplications\u001b[0m\u001b[0;34m.\u001b[0m\u001b[0mVGG16\u001b[0m\u001b[0;34m(\u001b[0m\u001b[0;34m*\u001b[0m\u001b[0margs\u001b[0m\u001b[0;34m,\u001b[0m \u001b[0;34m**\u001b[0m\u001b[0mkwargs\u001b[0m\u001b[0;34m)\u001b[0m\u001b[0;34m\u001b[0m\u001b[0;34m\u001b[0m\u001b[0m\n",
       "\u001b[0;31mDocstring:\u001b[0m <no docstring>\n",
       "\u001b[0;31mSource:\u001b[0m   \n",
       "  \u001b[0;32mdef\u001b[0m \u001b[0mwrapper\u001b[0m\u001b[0;34m(\u001b[0m\u001b[0;34m*\u001b[0m\u001b[0margs\u001b[0m\u001b[0;34m,\u001b[0m \u001b[0;34m**\u001b[0m\u001b[0mkwargs\u001b[0m\u001b[0;34m)\u001b[0m\u001b[0;34m:\u001b[0m\u001b[0;34m\u001b[0m\n",
       "\u001b[0;34m\u001b[0m    \u001b[0;32mif\u001b[0m \u001b[0mhasattr\u001b[0m\u001b[0;34m(\u001b[0m\u001b[0mkeras_applications\u001b[0m\u001b[0;34m,\u001b[0m \u001b[0;34m'get_submodules_from_kwargs'\u001b[0m\u001b[0;34m)\u001b[0m\u001b[0;34m:\u001b[0m\u001b[0;34m\u001b[0m\n",
       "\u001b[0;34m\u001b[0m      \u001b[0mkwargs\u001b[0m\u001b[0;34m[\u001b[0m\u001b[0;34m'backend'\u001b[0m\u001b[0;34m]\u001b[0m \u001b[0;34m=\u001b[0m \u001b[0mbackend\u001b[0m\u001b[0;34m\u001b[0m\n",
       "\u001b[0;34m\u001b[0m      \u001b[0;32mif\u001b[0m \u001b[0;34m'layers'\u001b[0m \u001b[0;32mnot\u001b[0m \u001b[0;32min\u001b[0m \u001b[0mkwargs\u001b[0m\u001b[0;34m:\u001b[0m\u001b[0;34m\u001b[0m\n",
       "\u001b[0;34m\u001b[0m        \u001b[0mkwargs\u001b[0m\u001b[0;34m[\u001b[0m\u001b[0;34m'layers'\u001b[0m\u001b[0;34m]\u001b[0m \u001b[0;34m=\u001b[0m \u001b[0mlayers\u001b[0m\u001b[0;34m\u001b[0m\n",
       "\u001b[0;34m\u001b[0m      \u001b[0mkwargs\u001b[0m\u001b[0;34m[\u001b[0m\u001b[0;34m'models'\u001b[0m\u001b[0;34m]\u001b[0m \u001b[0;34m=\u001b[0m \u001b[0mmodels\u001b[0m\u001b[0;34m\u001b[0m\n",
       "\u001b[0;34m\u001b[0m      \u001b[0mkwargs\u001b[0m\u001b[0;34m[\u001b[0m\u001b[0;34m'utils'\u001b[0m\u001b[0;34m]\u001b[0m \u001b[0;34m=\u001b[0m \u001b[0mutils\u001b[0m\u001b[0;34m\u001b[0m\n",
       "\u001b[0;34m\u001b[0m    \u001b[0;32mreturn\u001b[0m \u001b[0mbase_fun\u001b[0m\u001b[0;34m(\u001b[0m\u001b[0;34m*\u001b[0m\u001b[0margs\u001b[0m\u001b[0;34m,\u001b[0m \u001b[0;34m**\u001b[0m\u001b[0mkwargs\u001b[0m\u001b[0;34m)\u001b[0m\u001b[0;34m\u001b[0m\u001b[0;34m\u001b[0m\u001b[0m\n",
       "\u001b[0;31mFile:\u001b[0m      ~/.local/lib/python3.6/site-packages/tensorflow/python/keras/applications/__init__.py\n",
       "\u001b[0;31mType:\u001b[0m      function\n"
      ]
     },
     "metadata": {},
     "output_type": "display_data"
    }
   ],
   "source": [
    "tf.keras.applications.VGG16??"
   ]
  },
  {
   "cell_type": "code",
   "execution_count": 12,
   "metadata": {},
   "outputs": [],
   "source": [
    "import PIL\n",
    "import textwrap as tw\n",
    "import matplotlib.pyplot as plt\n",
    "import numpy as np"
   ]
  },
  {
   "cell_type": "code",
   "execution_count": 13,
   "metadata": {},
   "outputs": [],
   "source": [
    "img1 = PIL.Image.open('./img1.jpg')\n",
    "img2 = PIL.Image.open('./img2.jpg')"
   ]
  },
  {
   "cell_type": "code",
   "execution_count": 18,
   "metadata": {},
   "outputs": [],
   "source": [
    "def plt_fig_text(plt, facecolor, textstr):\n",
    "    props = dict(boxstyle='round', facecolor=facecolor, alpha=0.5)\n",
    "    fig_txt = tw.fill(tw.dedent(textstr), width=80)\n",
    "    plt.figtext(0.51, 0.05, fig_txt, horizontalalignment='center',\n",
    "                fontsize=12, multialignment='center',\n",
    "                bbox=dict(boxstyle=\"round\", facecolor=facecolor,\n",
    "                            ec=\"0.5\", pad=0.5, alpha=1), fontweight='bold')\n",
    "    return plt\n",
    "\n",
    "        \n",
    "def show(image_1,image_2,similarity, dissimilarity, euc, my_logits):\n",
    "    import matplotlib.pyplot as plt\n",
    "    fig = plt.figure()\n",
    "    plt.title(('Similarity: %.2f, Dissimilarity: %.2f, Euclidean Dist: %.2f, Logits: %.2f' % (similarity, dissimilarity, euc, my_logits)), loc='center')\n",
    "    if my_logits < 0.5:\n",
    "        textstr = 'Similar'\n",
    "        plt = plt_fig_text(plt, \"green\", textstr)\n",
    "    else:\n",
    "        textstr = 'Dissimilar'\n",
    "        plt = plt_fig_text(plt, \"red\", textstr)\n",
    "\n",
    "    plt.axis('off')\n",
    "    ax1 = fig.add_subplot(1, 2, 1)\n",
    "    l_im = np.array(image_1)\n",
    "    ax1.imshow(l_im)\n",
    "    ax1.axis('off')\n",
    "    ax2 = fig.add_subplot(1, 2, 2)\n",
    "    r_im = np.array(image_2)\n",
    "    ax2.imshow(r_im)\n",
    "    ax2.axis('off')\n",
    "\n",
    "    plt.show()\n"
   ]
  },
  {
   "cell_type": "code",
   "execution_count": 19,
   "metadata": {},
   "outputs": [
    {
     "data": {
      "image/png": "[encoded data removed]",
      "text/plain": [
       "<Figure size 432x288 with 3 Axes>"
      ]
     },
     "metadata": {
      "needs_background": "light"
     },
     "output_type": "display_data"
    }
   ],
   "source": [
    "show(img1, img2, similarity=0, dissimilarity=1, euc=1, my_logits=0.8)"
   ]
  },
  {
   "cell_type": "code",
   "execution_count": 51,
   "metadata": {},
   "outputs": [
    {
     "name": "stdout",
     "output_type": "stream",
     "text": [
      "Downloading data from https://github.com/fchollet/deep-learning-models/releases/download/v0.1/vgg19_weights_tf_dim_ordering_tf_kernels_notop.h5\n",
      "39796736/80134624 [=============>................] - ETA: 9s"
     ]
    },
    {
     "ename": "KeyboardInterrupt",
     "evalue": "",
     "output_type": "error",
     "traceback": [
      "\u001b[0;31m---------------------------------------------------------------------------\u001b[0m",
      "\u001b[0;31mKeyboardInterrupt\u001b[0m                         Traceback (most recent call last)",
      "\u001b[0;32m<ipython-input-51-cc21312963a4>\u001b[0m in \u001b[0;36m<module>\u001b[0;34m\u001b[0m\n\u001b[0;32m----> 1\u001b[0;31m \u001b[0mmodel\u001b[0m \u001b[0;34m=\u001b[0m \u001b[0mtf\u001b[0m\u001b[0;34m.\u001b[0m\u001b[0mkeras\u001b[0m\u001b[0;34m.\u001b[0m\u001b[0mapplications\u001b[0m\u001b[0;34m.\u001b[0m\u001b[0mVGG19\u001b[0m\u001b[0;34m(\u001b[0m\u001b[0minclude_top\u001b[0m\u001b[0;34m=\u001b[0m\u001b[0;32mFalse\u001b[0m\u001b[0;34m,\u001b[0m \u001b[0minput_shape\u001b[0m\u001b[0;34m=\u001b[0m\u001b[0;34m(\u001b[0m\u001b[0;36m256\u001b[0m\u001b[0;34m,\u001b[0m \u001b[0;36m128\u001b[0m\u001b[0;34m,\u001b[0m \u001b[0;36m3\u001b[0m\u001b[0;34m)\u001b[0m\u001b[0;34m)\u001b[0m\u001b[0;34m\u001b[0m\u001b[0;34m\u001b[0m\u001b[0m\n\u001b[0m",
      "\u001b[0;32m~/.local/lib/python3.6/site-packages/tensorflow/python/keras/applications/__init__.py\u001b[0m in \u001b[0;36mwrapper\u001b[0;34m(*args, **kwargs)\u001b[0m\n\u001b[1;32m     68\u001b[0m       \u001b[0mkwargs\u001b[0m\u001b[0;34m[\u001b[0m\u001b[0;34m'models'\u001b[0m\u001b[0;34m]\u001b[0m \u001b[0;34m=\u001b[0m \u001b[0mmodels\u001b[0m\u001b[0;34m\u001b[0m\u001b[0;34m\u001b[0m\u001b[0m\n\u001b[1;32m     69\u001b[0m       \u001b[0mkwargs\u001b[0m\u001b[0;34m[\u001b[0m\u001b[0;34m'utils'\u001b[0m\u001b[0;34m]\u001b[0m \u001b[0;34m=\u001b[0m \u001b[0mutils\u001b[0m\u001b[0;34m\u001b[0m\u001b[0;34m\u001b[0m\u001b[0m\n\u001b[0;32m---> 70\u001b[0;31m     \u001b[0;32mreturn\u001b[0m \u001b[0mbase_fun\u001b[0m\u001b[0;34m(\u001b[0m\u001b[0;34m*\u001b[0m\u001b[0margs\u001b[0m\u001b[0;34m,\u001b[0m \u001b[0;34m**\u001b[0m\u001b[0mkwargs\u001b[0m\u001b[0;34m)\u001b[0m\u001b[0;34m\u001b[0m\u001b[0;34m\u001b[0m\u001b[0m\n\u001b[0m\u001b[1;32m     71\u001b[0m   \u001b[0;32mreturn\u001b[0m \u001b[0mwrapper\u001b[0m\u001b[0;34m\u001b[0m\u001b[0;34m\u001b[0m\u001b[0m\n\u001b[1;32m     72\u001b[0m \u001b[0;34m\u001b[0m\u001b[0m\n",
      "\u001b[0;32m~/.local/lib/python3.6/site-packages/tensorflow/python/keras/applications/vgg19.py\u001b[0m in \u001b[0;36mVGG19\u001b[0;34m(*args, **kwargs)\u001b[0m\n\u001b[1;32m     30\u001b[0m \u001b[0;34m@\u001b[0m\u001b[0mkeras_modules_injection\u001b[0m\u001b[0;34m\u001b[0m\u001b[0;34m\u001b[0m\u001b[0m\n\u001b[1;32m     31\u001b[0m \u001b[0;32mdef\u001b[0m \u001b[0mVGG19\u001b[0m\u001b[0;34m(\u001b[0m\u001b[0;34m*\u001b[0m\u001b[0margs\u001b[0m\u001b[0;34m,\u001b[0m \u001b[0;34m**\u001b[0m\u001b[0mkwargs\u001b[0m\u001b[0;34m)\u001b[0m\u001b[0;34m:\u001b[0m\u001b[0;34m\u001b[0m\u001b[0;34m\u001b[0m\u001b[0m\n\u001b[0;32m---> 32\u001b[0;31m   \u001b[0;32mreturn\u001b[0m \u001b[0mvgg19\u001b[0m\u001b[0;34m.\u001b[0m\u001b[0mVGG19\u001b[0m\u001b[0;34m(\u001b[0m\u001b[0;34m*\u001b[0m\u001b[0margs\u001b[0m\u001b[0;34m,\u001b[0m \u001b[0;34m**\u001b[0m\u001b[0mkwargs\u001b[0m\u001b[0;34m)\u001b[0m\u001b[0;34m\u001b[0m\u001b[0;34m\u001b[0m\u001b[0m\n\u001b[0m\u001b[1;32m     33\u001b[0m \u001b[0;34m\u001b[0m\u001b[0m\n\u001b[1;32m     34\u001b[0m \u001b[0;34m\u001b[0m\u001b[0m\n",
      "\u001b[0;32m~/.local/lib/python3.6/site-packages/keras_applications/vgg19.py\u001b[0m in \u001b[0;36mVGG19\u001b[0;34m(include_top, weights, input_tensor, input_shape, pooling, classes, **kwargs)\u001b[0m\n\u001b[1;32m    219\u001b[0m                 \u001b[0mWEIGHTS_PATH_NO_TOP\u001b[0m\u001b[0;34m,\u001b[0m\u001b[0;34m\u001b[0m\u001b[0;34m\u001b[0m\u001b[0m\n\u001b[1;32m    220\u001b[0m                 \u001b[0mcache_subdir\u001b[0m\u001b[0;34m=\u001b[0m\u001b[0;34m'models'\u001b[0m\u001b[0;34m,\u001b[0m\u001b[0;34m\u001b[0m\u001b[0;34m\u001b[0m\u001b[0m\n\u001b[0;32m--> 221\u001b[0;31m                 file_hash='253f8cb515780f3b799900260a226db6')\n\u001b[0m\u001b[1;32m    222\u001b[0m         \u001b[0mmodel\u001b[0m\u001b[0;34m.\u001b[0m\u001b[0mload_weights\u001b[0m\u001b[0;34m(\u001b[0m\u001b[0mweights_path\u001b[0m\u001b[0;34m)\u001b[0m\u001b[0;34m\u001b[0m\u001b[0;34m\u001b[0m\u001b[0m\n\u001b[1;32m    223\u001b[0m         \u001b[0;32mif\u001b[0m \u001b[0mbackend\u001b[0m\u001b[0;34m.\u001b[0m\u001b[0mbackend\u001b[0m\u001b[0;34m(\u001b[0m\u001b[0;34m)\u001b[0m \u001b[0;34m==\u001b[0m \u001b[0;34m'theano'\u001b[0m\u001b[0;34m:\u001b[0m\u001b[0;34m\u001b[0m\u001b[0;34m\u001b[0m\u001b[0m\n",
      "\u001b[0;32m~/.local/lib/python3.6/site-packages/tensorflow/python/keras/utils/data_utils.py\u001b[0m in \u001b[0;36mget_file\u001b[0;34m(fname, origin, untar, md5_hash, file_hash, cache_subdir, hash_algorithm, extract, archive_format, cache_dir)\u001b[0m\n\u001b[1;32m    249\u001b[0m     \u001b[0;32mtry\u001b[0m\u001b[0;34m:\u001b[0m\u001b[0;34m\u001b[0m\u001b[0;34m\u001b[0m\u001b[0m\n\u001b[1;32m    250\u001b[0m       \u001b[0;32mtry\u001b[0m\u001b[0;34m:\u001b[0m\u001b[0;34m\u001b[0m\u001b[0;34m\u001b[0m\u001b[0m\n\u001b[0;32m--> 251\u001b[0;31m         \u001b[0murlretrieve\u001b[0m\u001b[0;34m(\u001b[0m\u001b[0morigin\u001b[0m\u001b[0;34m,\u001b[0m \u001b[0mfpath\u001b[0m\u001b[0;34m,\u001b[0m \u001b[0mdl_progress\u001b[0m\u001b[0;34m)\u001b[0m\u001b[0;34m\u001b[0m\u001b[0;34m\u001b[0m\u001b[0m\n\u001b[0m\u001b[1;32m    252\u001b[0m       \u001b[0;32mexcept\u001b[0m \u001b[0mHTTPError\u001b[0m \u001b[0;32mas\u001b[0m \u001b[0me\u001b[0m\u001b[0;34m:\u001b[0m\u001b[0;34m\u001b[0m\u001b[0;34m\u001b[0m\u001b[0m\n\u001b[1;32m    253\u001b[0m         \u001b[0;32mraise\u001b[0m \u001b[0mException\u001b[0m\u001b[0;34m(\u001b[0m\u001b[0merror_msg\u001b[0m\u001b[0;34m.\u001b[0m\u001b[0mformat\u001b[0m\u001b[0;34m(\u001b[0m\u001b[0morigin\u001b[0m\u001b[0;34m,\u001b[0m \u001b[0me\u001b[0m\u001b[0;34m.\u001b[0m\u001b[0mcode\u001b[0m\u001b[0;34m,\u001b[0m \u001b[0me\u001b[0m\u001b[0;34m.\u001b[0m\u001b[0mmsg\u001b[0m\u001b[0;34m)\u001b[0m\u001b[0;34m)\u001b[0m\u001b[0;34m\u001b[0m\u001b[0;34m\u001b[0m\u001b[0m\n",
      "\u001b[0;32m/usr/lib/python3.6/urllib/request.py\u001b[0m in \u001b[0;36murlretrieve\u001b[0;34m(url, filename, reporthook, data)\u001b[0m\n\u001b[1;32m    275\u001b[0m \u001b[0;34m\u001b[0m\u001b[0m\n\u001b[1;32m    276\u001b[0m             \u001b[0;32mwhile\u001b[0m \u001b[0;32mTrue\u001b[0m\u001b[0;34m:\u001b[0m\u001b[0;34m\u001b[0m\u001b[0;34m\u001b[0m\u001b[0m\n\u001b[0;32m--> 277\u001b[0;31m                 \u001b[0mblock\u001b[0m \u001b[0;34m=\u001b[0m \u001b[0mfp\u001b[0m\u001b[0;34m.\u001b[0m\u001b[0mread\u001b[0m\u001b[0;34m(\u001b[0m\u001b[0mbs\u001b[0m\u001b[0;34m)\u001b[0m\u001b[0;34m\u001b[0m\u001b[0;34m\u001b[0m\u001b[0m\n\u001b[0m\u001b[1;32m    278\u001b[0m                 \u001b[0;32mif\u001b[0m \u001b[0;32mnot\u001b[0m \u001b[0mblock\u001b[0m\u001b[0;34m:\u001b[0m\u001b[0;34m\u001b[0m\u001b[0;34m\u001b[0m\u001b[0m\n\u001b[1;32m    279\u001b[0m                     \u001b[0;32mbreak\u001b[0m\u001b[0;34m\u001b[0m\u001b[0;34m\u001b[0m\u001b[0m\n",
      "\u001b[0;32m/usr/lib/python3.6/http/client.py\u001b[0m in \u001b[0;36mread\u001b[0;34m(self, amt)\u001b[0m\n\u001b[1;32m    457\u001b[0m             \u001b[0;31m# Amount is given, implement using readinto\u001b[0m\u001b[0;34m\u001b[0m\u001b[0;34m\u001b[0m\u001b[0;34m\u001b[0m\u001b[0m\n\u001b[1;32m    458\u001b[0m             \u001b[0mb\u001b[0m \u001b[0;34m=\u001b[0m \u001b[0mbytearray\u001b[0m\u001b[0;34m(\u001b[0m\u001b[0mamt\u001b[0m\u001b[0;34m)\u001b[0m\u001b[0;34m\u001b[0m\u001b[0;34m\u001b[0m\u001b[0m\n\u001b[0;32m--> 459\u001b[0;31m             \u001b[0mn\u001b[0m \u001b[0;34m=\u001b[0m \u001b[0mself\u001b[0m\u001b[0;34m.\u001b[0m\u001b[0mreadinto\u001b[0m\u001b[0;34m(\u001b[0m\u001b[0mb\u001b[0m\u001b[0;34m)\u001b[0m\u001b[0;34m\u001b[0m\u001b[0;34m\u001b[0m\u001b[0m\n\u001b[0m\u001b[1;32m    460\u001b[0m             \u001b[0;32mreturn\u001b[0m \u001b[0mmemoryview\u001b[0m\u001b[0;34m(\u001b[0m\u001b[0mb\u001b[0m\u001b[0;34m)\u001b[0m\u001b[0;34m[\u001b[0m\u001b[0;34m:\u001b[0m\u001b[0mn\u001b[0m\u001b[0;34m]\u001b[0m\u001b[0;34m.\u001b[0m\u001b[0mtobytes\u001b[0m\u001b[0;34m(\u001b[0m\u001b[0;34m)\u001b[0m\u001b[0;34m\u001b[0m\u001b[0;34m\u001b[0m\u001b[0m\n\u001b[1;32m    461\u001b[0m         \u001b[0;32melse\u001b[0m\u001b[0;34m:\u001b[0m\u001b[0;34m\u001b[0m\u001b[0;34m\u001b[0m\u001b[0m\n",
      "\u001b[0;32m/usr/lib/python3.6/http/client.py\u001b[0m in \u001b[0;36mreadinto\u001b[0;34m(self, b)\u001b[0m\n\u001b[1;32m    501\u001b[0m         \u001b[0;31m# connection, and the user is reading more bytes than will be provided\u001b[0m\u001b[0;34m\u001b[0m\u001b[0;34m\u001b[0m\u001b[0;34m\u001b[0m\u001b[0m\n\u001b[1;32m    502\u001b[0m         \u001b[0;31m# (for example, reading in 1k chunks)\u001b[0m\u001b[0;34m\u001b[0m\u001b[0;34m\u001b[0m\u001b[0;34m\u001b[0m\u001b[0m\n\u001b[0;32m--> 503\u001b[0;31m         \u001b[0mn\u001b[0m \u001b[0;34m=\u001b[0m \u001b[0mself\u001b[0m\u001b[0;34m.\u001b[0m\u001b[0mfp\u001b[0m\u001b[0;34m.\u001b[0m\u001b[0mreadinto\u001b[0m\u001b[0;34m(\u001b[0m\u001b[0mb\u001b[0m\u001b[0;34m)\u001b[0m\u001b[0;34m\u001b[0m\u001b[0;34m\u001b[0m\u001b[0m\n\u001b[0m\u001b[1;32m    504\u001b[0m         \u001b[0;32mif\u001b[0m \u001b[0;32mnot\u001b[0m \u001b[0mn\u001b[0m \u001b[0;32mand\u001b[0m \u001b[0mb\u001b[0m\u001b[0;34m:\u001b[0m\u001b[0;34m\u001b[0m\u001b[0;34m\u001b[0m\u001b[0m\n\u001b[1;32m    505\u001b[0m             \u001b[0;31m# Ideally, we would raise IncompleteRead if the content-length\u001b[0m\u001b[0;34m\u001b[0m\u001b[0;34m\u001b[0m\u001b[0;34m\u001b[0m\u001b[0m\n",
      "\u001b[0;32m/usr/lib/python3.6/socket.py\u001b[0m in \u001b[0;36mreadinto\u001b[0;34m(self, b)\u001b[0m\n\u001b[1;32m    584\u001b[0m         \u001b[0;32mwhile\u001b[0m \u001b[0;32mTrue\u001b[0m\u001b[0;34m:\u001b[0m\u001b[0;34m\u001b[0m\u001b[0;34m\u001b[0m\u001b[0m\n\u001b[1;32m    585\u001b[0m             \u001b[0;32mtry\u001b[0m\u001b[0;34m:\u001b[0m\u001b[0;34m\u001b[0m\u001b[0;34m\u001b[0m\u001b[0m\n\u001b[0;32m--> 586\u001b[0;31m                 \u001b[0;32mreturn\u001b[0m \u001b[0mself\u001b[0m\u001b[0;34m.\u001b[0m\u001b[0m_sock\u001b[0m\u001b[0;34m.\u001b[0m\u001b[0mrecv_into\u001b[0m\u001b[0;34m(\u001b[0m\u001b[0mb\u001b[0m\u001b[0;34m)\u001b[0m\u001b[0;34m\u001b[0m\u001b[0;34m\u001b[0m\u001b[0m\n\u001b[0m\u001b[1;32m    587\u001b[0m             \u001b[0;32mexcept\u001b[0m \u001b[0mtimeout\u001b[0m\u001b[0;34m:\u001b[0m\u001b[0;34m\u001b[0m\u001b[0;34m\u001b[0m\u001b[0m\n\u001b[1;32m    588\u001b[0m                 \u001b[0mself\u001b[0m\u001b[0;34m.\u001b[0m\u001b[0m_timeout_occurred\u001b[0m \u001b[0;34m=\u001b[0m \u001b[0;32mTrue\u001b[0m\u001b[0;34m\u001b[0m\u001b[0;34m\u001b[0m\u001b[0m\n",
      "\u001b[0;32m/usr/lib/python3.6/ssl.py\u001b[0m in \u001b[0;36mrecv_into\u001b[0;34m(self, buffer, nbytes, flags)\u001b[0m\n\u001b[1;32m   1010\u001b[0m                   \u001b[0;34m\"non-zero flags not allowed in calls to recv_into() on %s\"\u001b[0m \u001b[0;34m%\u001b[0m\u001b[0;34m\u001b[0m\u001b[0;34m\u001b[0m\u001b[0m\n\u001b[1;32m   1011\u001b[0m                   self.__class__)\n\u001b[0;32m-> 1012\u001b[0;31m             \u001b[0;32mreturn\u001b[0m \u001b[0mself\u001b[0m\u001b[0;34m.\u001b[0m\u001b[0mread\u001b[0m\u001b[0;34m(\u001b[0m\u001b[0mnbytes\u001b[0m\u001b[0;34m,\u001b[0m \u001b[0mbuffer\u001b[0m\u001b[0;34m)\u001b[0m\u001b[0;34m\u001b[0m\u001b[0;34m\u001b[0m\u001b[0m\n\u001b[0m\u001b[1;32m   1013\u001b[0m         \u001b[0;32melse\u001b[0m\u001b[0;34m:\u001b[0m\u001b[0;34m\u001b[0m\u001b[0;34m\u001b[0m\u001b[0m\n\u001b[1;32m   1014\u001b[0m             \u001b[0;32mreturn\u001b[0m \u001b[0msocket\u001b[0m\u001b[0;34m.\u001b[0m\u001b[0mrecv_into\u001b[0m\u001b[0;34m(\u001b[0m\u001b[0mself\u001b[0m\u001b[0;34m,\u001b[0m \u001b[0mbuffer\u001b[0m\u001b[0;34m,\u001b[0m \u001b[0mnbytes\u001b[0m\u001b[0;34m,\u001b[0m \u001b[0mflags\u001b[0m\u001b[0;34m)\u001b[0m\u001b[0;34m\u001b[0m\u001b[0;34m\u001b[0m\u001b[0m\n",
      "\u001b[0;32m/usr/lib/python3.6/ssl.py\u001b[0m in \u001b[0;36mread\u001b[0;34m(self, len, buffer)\u001b[0m\n\u001b[1;32m    872\u001b[0m             \u001b[0;32mraise\u001b[0m \u001b[0mValueError\u001b[0m\u001b[0;34m(\u001b[0m\u001b[0;34m\"Read on closed or unwrapped SSL socket.\"\u001b[0m\u001b[0;34m)\u001b[0m\u001b[0;34m\u001b[0m\u001b[0;34m\u001b[0m\u001b[0m\n\u001b[1;32m    873\u001b[0m         \u001b[0;32mtry\u001b[0m\u001b[0;34m:\u001b[0m\u001b[0;34m\u001b[0m\u001b[0;34m\u001b[0m\u001b[0m\n\u001b[0;32m--> 874\u001b[0;31m             \u001b[0;32mreturn\u001b[0m \u001b[0mself\u001b[0m\u001b[0;34m.\u001b[0m\u001b[0m_sslobj\u001b[0m\u001b[0;34m.\u001b[0m\u001b[0mread\u001b[0m\u001b[0;34m(\u001b[0m\u001b[0mlen\u001b[0m\u001b[0;34m,\u001b[0m \u001b[0mbuffer\u001b[0m\u001b[0;34m)\u001b[0m\u001b[0;34m\u001b[0m\u001b[0;34m\u001b[0m\u001b[0m\n\u001b[0m\u001b[1;32m    875\u001b[0m         \u001b[0;32mexcept\u001b[0m \u001b[0mSSLError\u001b[0m \u001b[0;32mas\u001b[0m \u001b[0mx\u001b[0m\u001b[0;34m:\u001b[0m\u001b[0;34m\u001b[0m\u001b[0;34m\u001b[0m\u001b[0m\n\u001b[1;32m    876\u001b[0m             \u001b[0;32mif\u001b[0m \u001b[0mx\u001b[0m\u001b[0;34m.\u001b[0m\u001b[0margs\u001b[0m\u001b[0;34m[\u001b[0m\u001b[0;36m0\u001b[0m\u001b[0;34m]\u001b[0m \u001b[0;34m==\u001b[0m \u001b[0mSSL_ERROR_EOF\u001b[0m \u001b[0;32mand\u001b[0m \u001b[0mself\u001b[0m\u001b[0;34m.\u001b[0m\u001b[0msuppress_ragged_eofs\u001b[0m\u001b[0;34m:\u001b[0m\u001b[0;34m\u001b[0m\u001b[0;34m\u001b[0m\u001b[0m\n",
      "\u001b[0;32m/usr/lib/python3.6/ssl.py\u001b[0m in \u001b[0;36mread\u001b[0;34m(self, len, buffer)\u001b[0m\n\u001b[1;32m    629\u001b[0m         \"\"\"\n\u001b[1;32m    630\u001b[0m         \u001b[0;32mif\u001b[0m \u001b[0mbuffer\u001b[0m \u001b[0;32mis\u001b[0m \u001b[0;32mnot\u001b[0m \u001b[0;32mNone\u001b[0m\u001b[0;34m:\u001b[0m\u001b[0;34m\u001b[0m\u001b[0;34m\u001b[0m\u001b[0m\n\u001b[0;32m--> 631\u001b[0;31m             \u001b[0mv\u001b[0m \u001b[0;34m=\u001b[0m \u001b[0mself\u001b[0m\u001b[0;34m.\u001b[0m\u001b[0m_sslobj\u001b[0m\u001b[0;34m.\u001b[0m\u001b[0mread\u001b[0m\u001b[0;34m(\u001b[0m\u001b[0mlen\u001b[0m\u001b[0;34m,\u001b[0m \u001b[0mbuffer\u001b[0m\u001b[0;34m)\u001b[0m\u001b[0;34m\u001b[0m\u001b[0;34m\u001b[0m\u001b[0m\n\u001b[0m\u001b[1;32m    632\u001b[0m         \u001b[0;32melse\u001b[0m\u001b[0;34m:\u001b[0m\u001b[0;34m\u001b[0m\u001b[0;34m\u001b[0m\u001b[0m\n\u001b[1;32m    633\u001b[0m             \u001b[0mv\u001b[0m \u001b[0;34m=\u001b[0m \u001b[0mself\u001b[0m\u001b[0;34m.\u001b[0m\u001b[0m_sslobj\u001b[0m\u001b[0;34m.\u001b[0m\u001b[0mread\u001b[0m\u001b[0;34m(\u001b[0m\u001b[0mlen\u001b[0m\u001b[0;34m)\u001b[0m\u001b[0;34m\u001b[0m\u001b[0;34m\u001b[0m\u001b[0m\n",
      "\u001b[0;31mKeyboardInterrupt\u001b[0m: "
     ]
    }
   ],
   "source": [
    "model = tf.keras.applications.VGG19(include_top=False, input_shape=(256, 128, 3))"
   ]
  },
  {
   "cell_type": "code",
   "execution_count": 44,
   "metadata": {},
   "outputs": [
    {
     "name": "stdout",
     "output_type": "stream",
     "text": [
      "Model: \"vgg16\"\n",
      "_________________________________________________________________\n",
      "Layer (type)                 Output Shape              Param #   \n",
      "=================================================================\n",
      "input_4 (InputLayer)         [(None, 256, 128, 3)]     0         \n",
      "_________________________________________________________________\n",
      "block1_conv1 (Conv2D)        (None, 256, 128, 64)      1792      \n",
      "_________________________________________________________________\n",
      "block1_conv2 (Conv2D)        (None, 256, 128, 64)      36928     \n",
      "_________________________________________________________________\n",
      "block1_pool (MaxPooling2D)   (None, 128, 64, 64)       0         \n",
      "_________________________________________________________________\n",
      "block2_conv1 (Conv2D)        (None, 128, 64, 128)      73856     \n",
      "_________________________________________________________________\n",
      "block2_conv2 (Conv2D)        (None, 128, 64, 128)      147584    \n",
      "_________________________________________________________________\n",
      "block2_pool (MaxPooling2D)   (None, 64, 32, 128)       0         \n",
      "_________________________________________________________________\n",
      "block3_conv1 (Conv2D)        (None, 64, 32, 256)       295168    \n",
      "_________________________________________________________________\n",
      "block3_conv2 (Conv2D)        (None, 64, 32, 256)       590080    \n",
      "_________________________________________________________________\n",
      "block3_conv3 (Conv2D)        (None, 64, 32, 256)       590080    \n",
      "_________________________________________________________________\n",
      "block3_pool (MaxPooling2D)   (None, 32, 16, 256)       0         \n",
      "_________________________________________________________________\n",
      "block4_conv1 (Conv2D)        (None, 32, 16, 512)       1180160   \n",
      "_________________________________________________________________\n",
      "block4_conv2 (Conv2D)        (None, 32, 16, 512)       2359808   \n",
      "_________________________________________________________________\n",
      "block4_conv3 (Conv2D)        (None, 32, 16, 512)       2359808   \n",
      "_________________________________________________________________\n",
      "block4_pool (MaxPooling2D)   (None, 16, 8, 512)        0         \n",
      "_________________________________________________________________\n",
      "block5_conv1 (Conv2D)        (None, 16, 8, 512)        2359808   \n",
      "_________________________________________________________________\n",
      "block5_conv2 (Conv2D)        (None, 16, 8, 512)        2359808   \n",
      "_________________________________________________________________\n",
      "block5_conv3 (Conv2D)        (None, 16, 8, 512)        2359808   \n",
      "_________________________________________________________________\n",
      "block5_pool (MaxPooling2D)   (None, 8, 4, 512)         0         \n",
      "=================================================================\n",
      "Total params: 14,714,688\n",
      "Trainable params: 14,714,688\n",
      "Non-trainable params: 0\n",
      "_________________________________________________________________\n"
     ]
    }
   ],
   "source": [
    "model.summary()"
   ]
  },
  {
   "cell_type": "code",
   "execution_count": 50,
   "metadata": {},
   "outputs": [
    {
     "ename": "AttributeError",
     "evalue": "'list' object has no attribute 'trainable'",
     "output_type": "error",
     "traceback": [
      "\u001b[0;31m---------------------------------------------------------------------------\u001b[0m",
      "\u001b[0;31mAttributeError\u001b[0m                            Traceback (most recent call last)",
      "\u001b[0;32m<ipython-input-50-be160f0926cd>\u001b[0m in \u001b[0;36m<module>\u001b[0;34m\u001b[0m\n\u001b[0;32m----> 1\u001b[0;31m \u001b[0mmodel\u001b[0m\u001b[0;34m.\u001b[0m\u001b[0mlayers\u001b[0m\u001b[0;34m.\u001b[0m\u001b[0mtrainable\u001b[0m\u001b[0;34m=\u001b[0m\u001b[0;32mFalse\u001b[0m\u001b[0;34m\u001b[0m\u001b[0;34m\u001b[0m\u001b[0m\n\u001b[0m",
      "\u001b[0;31mAttributeError\u001b[0m: 'list' object has no attribute 'trainable'"
     ]
    }
   ],
   "source": [
    "model.layers"
   ]
  },
  {
   "cell_type": "code",
   "execution_count": 46,
   "metadata": {},
   "outputs": [
    {
     "data": {
      "text/plain": [
       "tensorflow.python.layers.pooling.AveragePooling2D"
      ]
     },
     "execution_count": 46,
     "metadata": {},
     "output_type": "execute_result"
    }
   ],
   "source": [
    "tf.layers.AveragePooling2D"
   ]
  },
  {
   "cell_type": "code",
   "execution_count": 45,
   "metadata": {},
   "outputs": [
    {
     "data": {
      "text/plain": [
       "16384"
      ]
     },
     "execution_count": 45,
     "metadata": {},
     "output_type": "execute_result"
    }
   ],
   "source": [
    "512*4*8"
   ]
  },
  {
   "cell_type": "code",
   "execution_count": 19,
   "metadata": {},
   "outputs": [],
   "source": [
    "a = np.array([0, 0.8, 2.0, 1.5])"
   ]
  },
  {
   "cell_type": "code",
   "execution_count": 20,
   "metadata": {},
   "outputs": [],
   "source": [
    "b = (a < 1.0).astype(np.int32)"
   ]
  },
  {
   "cell_type": "code",
   "execution_count": 21,
   "metadata": {},
   "outputs": [
    {
     "data": {
      "text/plain": [
       "array([1, 1, 0, 0], dtype=int32)"
      ]
     },
     "execution_count": 21,
     "metadata": {},
     "output_type": "execute_result"
    }
   ],
   "source": [
    "b "
   ]
  },
  {
   "cell_type": "code",
   "execution_count": 22,
   "metadata": {},
   "outputs": [],
   "source": [
    "a_tf = tf.convert_to_tensor(a)"
   ]
  },
  {
   "cell_type": "code",
   "execution_count": 23,
   "metadata": {},
   "outputs": [],
   "source": [
    "b_tf = tf.convert_to_tensor(b)"
   ]
  },
  {
   "cell_type": "code",
   "execution_count": 32,
   "metadata": {},
   "outputs": [],
   "source": [
    "labels = np.array([1, 0, 0, 0])\n",
    "labels = tf.convert_to_tensor(labels)"
   ]
  },
  {
   "cell_type": "code",
   "execution_count": 33,
   "metadata": {},
   "outputs": [],
   "source": [
    "from sklearn.metrics import roc_auc_score\n",
    "def auroc(y_true, y_pred):\n",
    "    return tf.py_func(roc_auc_score, (y_true, y_pred), tf.double)"
   ]
  },
  {
   "cell_type": "code",
   "execution_count": 34,
   "metadata": {},
   "outputs": [],
   "source": [
    "d = auroc(labels, b )"
   ]
  },
  {
   "cell_type": "code",
   "execution_count": 35,
   "metadata": {},
   "outputs": [],
   "source": [
    "sess = tf.Session()"
   ]
  },
  {
   "cell_type": "code",
   "execution_count": 36,
   "metadata": {},
   "outputs": [
    {
     "data": {
      "text/plain": [
       "[0.8333333333333334]"
      ]
     },
     "execution_count": 36,
     "metadata": {},
     "output_type": "execute_result"
    }
   ],
   "source": [
    "sess.run([d])\n"
   ]
  },
  {
   "cell_type": "code",
   "execution_count": 30,
   "metadata": {},
   "outputs": [
    {
     "data": {
      "text/plain": [
       "array([0. , 0.8])"
      ]
     },
     "execution_count": 30,
     "metadata": {},
     "output_type": "execute_result"
    }
   ],
   "source": [
    "a[a<1.0]"
   ]
  },
  {
   "cell_type": "code",
   "execution_count": 2,
   "metadata": {},
   "outputs": [
    {
     "ename": "NameError",
     "evalue": "name 'Dataset' is not defined",
     "output_type": "error",
     "traceback": [
      "\u001b[0;31m---------------------------------------------------------------------------\u001b[0m",
      "\u001b[0;31mNameError\u001b[0m                                 Traceback (most recent call last)",
      "\u001b[0;32m<ipython-input-2-4fb432f6b463>\u001b[0m in \u001b[0;36m<module>\u001b[0;34m\u001b[0m\n\u001b[1;32m     20\u001b[0m \u001b[0;31m#         train = False\u001b[0m\u001b[0;34m\u001b[0m\u001b[0;34m\u001b[0m\u001b[0;34m\u001b[0m\u001b[0m\n\u001b[1;32m     21\u001b[0m \u001b[0;34m\u001b[0m\u001b[0m\n\u001b[0;32m---> 22\u001b[0;31m \u001b[0mdataset\u001b[0m\u001b[0;34m[\u001b[0m\u001b[0;34m\"train\"\u001b[0m\u001b[0;34m]\u001b[0m \u001b[0;34m=\u001b[0m  \u001b[0mDataset\u001b[0m\u001b[0;34m.\u001b[0m\u001b[0mrange\u001b[0m\u001b[0;34m(\u001b[0m\u001b[0;36m10\u001b[0m\u001b[0;34m,\u001b[0m \u001b[0;36m50\u001b[0m\u001b[0;34m)\u001b[0m\u001b[0;34m\u001b[0m\u001b[0;34m\u001b[0m\u001b[0m\n\u001b[0m\u001b[1;32m     23\u001b[0m \u001b[0mdataset\u001b[0m\u001b[0;34m[\u001b[0m\u001b[0;34m\"valid\"\u001b[0m\u001b[0;34m]\u001b[0m \u001b[0;34m=\u001b[0m  \u001b[0mDataset\u001b[0m\u001b[0;34m.\u001b[0m\u001b[0mrange\u001b[0m\u001b[0;34m(\u001b[0m\u001b[0;36m60\u001b[0m\u001b[0;34m,\u001b[0m \u001b[0;36m100\u001b[0m\u001b[0;34m)\u001b[0m\u001b[0;34m\u001b[0m\u001b[0;34m\u001b[0m\u001b[0m\n\u001b[1;32m     24\u001b[0m \u001b[0;34m\u001b[0m\u001b[0m\n",
      "\u001b[0;31mNameError\u001b[0m: name 'Dataset' is not defined"
     ]
    }
   ],
   "source": [
    "inputs = {}\n",
    "targets = {}\n",
    "#         self.reset_data = {}\n",
    "iter_handle = {}\n",
    "dataset = {} \n",
    "\n",
    "handle = tf.placeholder(tf.string, shape=[])\n",
    "def get_next():\n",
    "    iterator = tf.data.Iterator.from_string_handle(\n",
    "                    handle, dataset[\"train\"].output_types, dataset[\"train\"].output_shapes)\n",
    "    next_batch = iterator.get_next()\n",
    "    return next_batch\n",
    "\n",
    "# for _set_type in [\"train\", \"valid\"]:\n",
    "#     if _set_type == \"train\":\n",
    "#         filename = 'train.tfrecords'\n",
    "#         train = True\n",
    "#     else:\n",
    "#         filename = 'val.tfrecords'\n",
    "#         train = False\n",
    "\n",
    "dataset[\"train\"] =  Dataset.range(10, 50)\n",
    "dataset[\"valid\"] =  Dataset.range(60, 100)\n",
    "\n",
    "iter_handle[\"train\"] = dataset[\"train\"].make_one_shot_iterator().string_handle()\n",
    "iter_handle[\"valid\"] = dataset[\"valid\"].make_one_shot_iterator().string_handle()\n",
    "\n",
    "\n",
    "\n",
    "inputs[\"train\"], targets[\"train\"] = get_next()\n",
    "    \n",
    "with tf.train.MonitoredTrainingSession() as sess:\n",
    "    handle_train, handle_val = sess.run([iter_handle[\"train\"], iter_handle[\"valid\"]])\n",
    "    \n",
    "    for step in range(10):\n",
    "        print('train', sess.run(next_batch, feed_dict={handle: handle_train}))\n",
    "        \n",
    "        if step % 3 == 0:\n",
    "            print('val', sess.run(next_batch, feed_dict={handle: handle_val}))\n",
    "    \n",
    "    "
   ]
  },
  {
   "cell_type": "code",
   "execution_count": 3,
   "metadata": {},
   "outputs": [
    {
     "name": "stdout",
     "output_type": "stream",
     "text": [
      "WARNING:tensorflow:From <ipython-input-3-25651798e999>:6: DatasetV1.make_one_shot_iterator (from tensorflow.python.data.ops.dataset_ops) is deprecated and will be removed in a future version.\n",
      "Instructions for updating:\n",
      "Use `for ... in dataset:` to iterate over a dataset. If using `tf.estimator`, return the `Dataset` object directly from your input function. As a last resort, you can use `tf.compat.v1.data.make_one_shot_iterator(dataset)`.\n",
      "WARNING:tensorflow:From <ipython-input-3-25651798e999>:11: DatasetV1.output_types (from tensorflow.python.data.ops.dataset_ops) is deprecated and will be removed in a future version.\n",
      "Instructions for updating:\n",
      "Use `tf.compat.v1.data.get_output_types(dataset)`.\n",
      "WARNING:tensorflow:From <ipython-input-3-25651798e999>:11: DatasetV1.output_shapes (from tensorflow.python.data.ops.dataset_ops) is deprecated and will be removed in a future version.\n",
      "Instructions for updating:\n",
      "Use `tf.compat.v1.data.get_output_shapes(dataset)`.\n",
      "INFO:tensorflow:Graph was finalized.\n",
      "INFO:tensorflow:Running local_init_op.\n",
      "INFO:tensorflow:Done running local_init_op.\n",
      "train 0\n",
      "val 90\n",
      "train 1\n",
      "train 2\n",
      "train 3\n",
      "val 91\n",
      "train 4\n",
      "train 5\n",
      "train 6\n",
      "val 92\n",
      "train 7\n",
      "train 8\n",
      "train 9\n",
      "val 93\n"
     ]
    }
   ],
   "source": [
    "import tensorflow as tf\n",
    "from tensorflow.data import Dataset\n",
    "dataset_train = Dataset.range(10)\n",
    "dataset_val = Dataset.range(90, 100)\n",
    "\n",
    "iter_train_handle = dataset_train.make_one_shot_iterator().string_handle()\n",
    "iter_val_handle = dataset_val.make_one_shot_iterator().string_handle()\n",
    "\n",
    "handle = tf.placeholder(tf.string, shape=[])\n",
    "iterator = tf.data.Iterator.from_string_handle(\n",
    "    handle, dataset_train.output_types, dataset_train.output_shapes)\n",
    "next_batch = iterator.get_next()\n",
    "\n",
    "with tf.train.MonitoredTrainingSession() as sess:\n",
    "    handle_train, handle_val = sess.run([iter_train_handle, iter_val_handle])\n",
    "    \n",
    "    for step in range(10):\n",
    "        print('train', sess.run(next_batch, feed_dict={handle: handle_train}))\n",
    "        \n",
    "        if step % 3 == 0:\n",
    "            print('val', sess.run(next_batch, feed_dict={handle: handle_val}))\n"
   ]
  },
  {
   "cell_type": "code",
   "execution_count": 2,
   "metadata": {},
   "outputs": [],
   "source": [
    "from data_utils import *"
   ]
  },
  {
   "cell_type": "code",
   "execution_count": 3,
   "metadata": {},
   "outputs": [],
   "source": [
    "tfrecords_path='tf_record_dir/train.tfrecords'\n",
    "BATCH_SIZE = 8\n",
    "\n",
    "# train_dataset = load_dataset(tfrecords_path, batch_size=BATCH_SIZE, train=True)"
   ]
  },
  {
   "cell_type": "code",
   "execution_count": 4,
   "metadata": {},
   "outputs": [
    {
     "name": "stdout",
     "output_type": "stream",
     "text": [
      "WARNING:tensorflow:From /home/abhi/internship/study/siamese_reid/data_utils.py:57: The name tf.FixedLenFeature is deprecated. Please use tf.io.FixedLenFeature instead.\n",
      "\n",
      "WARNING:tensorflow:From /home/abhi/internship/study/siamese_reid/data_utils.py:114: add_dispatch_support.<locals>.wrapper (from tensorflow.python.ops.array_ops) is deprecated and will be removed in a future version.\n",
      "Instructions for updating:\n",
      "Use tf.where in 2.0, which has the same broadcast rule as np.where\n",
      "WARNING:tensorflow:From /home/abhi/internship/study/siamese_reid/data_utils.py:115: The name tf.random_uniform is deprecated. Please use tf.random.uniform instead.\n",
      "\n"
     ]
    }
   ],
   "source": [
    "dataset = get_data(tfrecords_path, BATCH_SIZE, augment=True, train=True)\n",
    "dataset_val = get_data(tfrecords_path, BATCH_SIZE, augment=True, train=False)"
   ]
  },
  {
   "cell_type": "code",
   "execution_count": 50,
   "metadata": {},
   "outputs": [
    {
     "name": "stdout",
     "output_type": "stream",
     "text": [
      "Collecting scikit-learn\n",
      "\u001b[33m  Cache entry deserialization failed, entry ignored\u001b[0m\n",
      "  Downloading https://files.pythonhosted.org/packages/5e/d8/312e03adf4c78663e17d802fe2440072376fee46cada1404f1727ed77a32/scikit_learn-0.22.2.post1-cp36-cp36m-manylinux1_x86_64.whl (7.1MB)\n",
      "\u001b[K    100% |████████████████████████████████| 7.1MB 176kB/s ta 0:00:011\n",
      "\u001b[?25hCollecting numpy>=1.11.0 (from scikit-learn)\n",
      "  Downloading https://files.pythonhosted.org/packages/3d/fc/4763e5f17ac6e7e7d55f377cde859ca1c5d5ac624441ab45315bc578aa9e/numpy-1.18.3-cp36-cp36m-manylinux1_x86_64.whl (20.2MB)\n",
      "\u001b[K    100% |████████████████████████████████| 20.2MB 65kB/s eta 0:00:011\n",
      "\u001b[?25hCollecting joblib>=0.11 (from scikit-learn)\n",
      "\u001b[33m  Cache entry deserialization failed, entry ignored\u001b[0m\n",
      "  Using cached https://files.pythonhosted.org/packages/28/5c/cf6a2b65a321c4a209efcdf64c2689efae2cb62661f8f6f4bb28547cf1bf/joblib-0.14.1-py2.py3-none-any.whl\n",
      "Collecting scipy>=0.17.0 (from scikit-learn)\n",
      "  Using cached https://files.pythonhosted.org/packages/dc/29/162476fd44203116e7980cfbd9352eef9db37c49445d1fec35509022f6aa/scipy-1.4.1-cp36-cp36m-manylinux1_x86_64.whl\n",
      "Installing collected packages: numpy, joblib, scipy, scikit-learn\n",
      "Successfully installed joblib-0.14.1 numpy-1.18.3 scikit-learn-0.22.2.post1 scipy-1.4.1\n"
     ]
    }
   ],
   "source": [
    "!pip3 install scikit-learn"
   ]
  },
  {
   "cell_type": "code",
   "execution_count": 1,
   "metadata": {},
   "outputs": [],
   "source": [
    "from sklearn.metrics import roc_auc_score\n",
    "def auroc(y_true, y_pred):\n",
    "    return tf.py_func(roc_auc_score, (y_true, y_pred), tf.double)"
   ]
  },
  {
   "cell_type": "code",
   "execution_count": null,
   "metadata": {},
   "outputs": [],
   "source": [
    "y_true ="
   ]
  },
  {
   "cell_type": "code",
   "execution_count": null,
   "metadata": {},
   "outputs": [],
   "source": [
    "de\n",
    "label = tf.equal(self.x_label[\"train\"], self.y_label[\"train\"])\n",
    "labels = tf.cast(label, tf.int32)\n",
    "\n",
    "logits = tf.cast(self.logits[\"train\"], tf.float32)\n",
    "preds = tf.cast((logits < 0.5), tf.int32)\n",
    "acc_def = tf.reduce_mean(tf.cast(tf.equal(preds, labels), tf.float32))"
   ]
  },
  {
   "cell_type": "code",
   "execution_count": 47,
   "metadata": {},
   "outputs": [
    {
     "ename": "NameError",
     "evalue": "name 'self' is not defined",
     "output_type": "error",
     "traceback": [
      "\u001b[0;31m---------------------------------------------------------------------------\u001b[0m",
      "\u001b[0;31mNameError\u001b[0m                                 Traceback (most recent call last)",
      "\u001b[0;32m<ipython-input-47-ddb3b0e4687d>\u001b[0m in \u001b[0;36m<module>\u001b[0;34m\u001b[0m\n\u001b[0;32m----> 1\u001b[0;31m \u001b[0mlabel\u001b[0m \u001b[0;34m=\u001b[0m \u001b[0mtf\u001b[0m\u001b[0;34m.\u001b[0m\u001b[0mequal\u001b[0m\u001b[0;34m(\u001b[0m\u001b[0mself\u001b[0m\u001b[0;34m.\u001b[0m\u001b[0mx_label\u001b[0m\u001b[0;34m[\u001b[0m\u001b[0;34m\"train\"\u001b[0m\u001b[0;34m]\u001b[0m\u001b[0;34m,\u001b[0m \u001b[0mself\u001b[0m\u001b[0;34m.\u001b[0m\u001b[0my_label\u001b[0m\u001b[0;34m[\u001b[0m\u001b[0;34m\"train\"\u001b[0m\u001b[0;34m]\u001b[0m\u001b[0;34m)\u001b[0m\u001b[0;34m\u001b[0m\u001b[0;34m\u001b[0m\u001b[0m\n\u001b[0m\u001b[1;32m      2\u001b[0m \u001b[0mlabels\u001b[0m \u001b[0;34m=\u001b[0m \u001b[0mtf\u001b[0m\u001b[0;34m.\u001b[0m\u001b[0mcast\u001b[0m\u001b[0;34m(\u001b[0m\u001b[0mlabel\u001b[0m\u001b[0;34m,\u001b[0m \u001b[0mtf\u001b[0m\u001b[0;34m.\u001b[0m\u001b[0mint32\u001b[0m\u001b[0;34m)\u001b[0m\u001b[0;34m\u001b[0m\u001b[0;34m\u001b[0m\u001b[0m\n\u001b[1;32m      3\u001b[0m \u001b[0;34m\u001b[0m\u001b[0m\n\u001b[1;32m      4\u001b[0m \u001b[0mlogits\u001b[0m \u001b[0;34m=\u001b[0m \u001b[0mtf\u001b[0m\u001b[0;34m.\u001b[0m\u001b[0mcast\u001b[0m\u001b[0;34m(\u001b[0m\u001b[0mself\u001b[0m\u001b[0;34m.\u001b[0m\u001b[0mlogits\u001b[0m\u001b[0;34m[\u001b[0m\u001b[0;34m\"train\"\u001b[0m\u001b[0;34m]\u001b[0m\u001b[0;34m,\u001b[0m \u001b[0mtf\u001b[0m\u001b[0;34m.\u001b[0m\u001b[0mfloat32\u001b[0m\u001b[0;34m)\u001b[0m\u001b[0;34m\u001b[0m\u001b[0;34m\u001b[0m\u001b[0m\n\u001b[1;32m      5\u001b[0m \u001b[0mpreds\u001b[0m \u001b[0;34m=\u001b[0m \u001b[0mtf\u001b[0m\u001b[0;34m.\u001b[0m\u001b[0mcast\u001b[0m\u001b[0;34m(\u001b[0m\u001b[0;34m(\u001b[0m\u001b[0mlogits\u001b[0m \u001b[0;34m<\u001b[0m \u001b[0;36m0.5\u001b[0m\u001b[0;34m)\u001b[0m\u001b[0;34m,\u001b[0m \u001b[0mtf\u001b[0m\u001b[0;34m.\u001b[0m\u001b[0mint32\u001b[0m\u001b[0;34m)\u001b[0m\u001b[0;34m\u001b[0m\u001b[0;34m\u001b[0m\u001b[0m\n",
      "\u001b[0;31mNameError\u001b[0m: name 'self' is not defined"
     ]
    }
   ],
   "source": [
    "\n",
    "label = tf.equal(self.x_label[\"train\"], self.y_label[\"train\"])\n",
    "labels = tf.cast(label, tf.int32)\n",
    "\n",
    "logits = tf.cast(self.logits[\"train\"], tf.float32)\n",
    "preds = tf.cast((logits < 0.5), tf.int32)\n",
    "acc_def = tf.reduce_mean(tf.cast(tf.equal(preds, labels), tf.float32))\n",
    "#                 acc = tf.metrics.accuracy(labels=labels, predictions=preds)\n",
    "short_fetch = {\n",
    "    \"logits\": self.logits[\"train\"],\n",
    "    \"x_label\": self.x_label[\"train\"],\n",
    "    \"y_label\": self.y_label[\"train\"],\n",
    "    \"preds\": preds,\n",
    "    \"labels\": labels,\n",
    "    \"acc\" : self.accuracy[\"train\"],\n",
    "    \"labels\": self.labels[\"train\"],\n",
    "    \"preds\": self.preds[\"train\"],\n",
    "    \"acc_def\": acc_def,\n",
    "    \"acc_update_op\": self.accuracy_up[\"train\"]\n",
    "}\n",
    "res_s = self.sess.run(short_fetch,feed_dict={self.is_training: True, self.handle: training_handle})\n",
    "print (\"Model - labels: {}, preds {}, acc {}, acc_up {}\".format(res_s[\"labels\"], res_s[\"preds\"], res_s[\"acc\"], res_s[\"acc_update_op\"]))\n",
    "print(\"Mine Accuracy {}\".format(res_s[\"acc_def\"]))\n",
    "print (\"Acc: {}, LOgits: {}, Predictions : {} ,Labels: {}, X: {}, Y: {}, \".format(res_s[\"acc\"], res_s[\"logits\"], res_s[\"preds\"], res_s[\"labels\"], res_s[\"x_label\"], res_s[\"y_label\"]))\n"
   ]
  },
  {
   "cell_type": "code",
   "execution_count": 17,
   "metadata": {},
   "outputs": [],
   "source": [
    "iter_handle = dataset_val.make_one_shot_iterator().string_handle()\n",
    "            \n",
    "# iterator = tf.data.Iterator.from_string_handle(\n",
    "#                 handle, self.dataset[\"train\"].output_types, self.dataset[\"train\"].output_shapes)\n",
    "#             next_batch = iterator.get_next()\n",
    "#             self.inputs[_set_type], self.targets[_set_type] = next_batch\n",
    "        \n",
    "handle = tf.placeholder(tf.string, shape=[])\n",
    "iterator = tf.data.Iterator.from_string_handle(\n",
    "    handle, dataset.output_types, dataset.output_shapes)\n",
    "next_batch = iterator.get_next()\n",
    "inps, targets = next_batch\n",
    "\n"
   ]
  },
  {
   "cell_type": "code",
   "execution_count": 37,
   "metadata": {},
   "outputs": [],
   "source": [
    "sess = tf.Session()"
   ]
  },
  {
   "cell_type": "code",
   "execution_count": null,
   "metadata": {},
   "outputs": [],
   "source": []
  },
  {
   "cell_type": "code",
   "execution_count": 45,
   "metadata": {},
   "outputs": [],
   "source": [
    "b_tf = tf.cast(a_tf < 1.0, tf.int32)"
   ]
  },
  {
   "cell_type": "code",
   "execution_count": 46,
   "metadata": {},
   "outputs": [
    {
     "data": {
      "text/plain": [
       "[array([1, 1, 0, 0], dtype=int32)]"
      ]
     },
     "execution_count": 46,
     "metadata": {},
     "output_type": "execute_result"
    }
   ],
   "source": [
    "sess.run([b_tf])"
   ]
  },
  {
   "cell_type": "code",
   "execution_count": 19,
   "metadata": {},
   "outputs": [],
   "source": [
    "handle_train = sess.run(iter_handle)"
   ]
  },
  {
   "cell_type": "code",
   "execution_count": 20,
   "metadata": {},
   "outputs": [
    {
     "name": "stdout",
     "output_type": "stream",
     "text": [
      "(8, 256, 128, 3) (8,)\n",
      "(8, 256, 128, 3) (8,)\n",
      "(8, 256, 128, 3) (8,)\n",
      "(8, 256, 128, 3) (8,)\n",
      "(8, 256, 128, 3) (8,)\n",
      "(8, 256, 128, 3) (8,)\n",
      "(8, 256, 128, 3) (8,)\n",
      "(8, 256, 128, 3) (8,)\n",
      "(8, 256, 128, 3) (8,)\n",
      "(8, 256, 128, 3) (8,)\n"
     ]
    }
   ],
   "source": [
    "for i in range(10):\n",
    "    image_batch, label_batch = sess.run([inps, targets], feed_dict={handle: handle_train})\n",
    "    left_im_b, left_im, left_label, _ = image_batch\n",
    "    right_im_b, right_im, right_label, _ = label_batch\n",
    "    print (left_im.shape, left_label.shape)"
   ]
  },
  {
   "cell_type": "code",
   "execution_count": 21,
   "metadata": {},
   "outputs": [],
   "source": [
    "a = left_im[2]\n",
    "b = left_im_b[2]"
   ]
  },
  {
   "cell_type": "code",
   "execution_count": 22,
   "metadata": {},
   "outputs": [
    {
     "data": {
      "text/plain": [
       "((256, 128, 3), (256, 128, 3))"
      ]
     },
     "execution_count": 22,
     "metadata": {},
     "output_type": "execute_result"
    }
   ],
   "source": [
    "a.shape, b.shape"
   ]
  },
  {
   "cell_type": "code",
   "execution_count": 23,
   "metadata": {},
   "outputs": [],
   "source": [
    "from PIL import Image"
   ]
  },
  {
   "cell_type": "code",
   "execution_count": 24,
   "metadata": {},
   "outputs": [],
   "source": [
    "import matplotlib.pyplot as plt"
   ]
  },
  {
   "cell_type": "code",
   "execution_count": 25,
   "metadata": {},
   "outputs": [
    {
     "data": {
      "text/plain": [
       "<matplotlib.image.AxesImage at 0x7ff884055550>"
      ]
     },
     "execution_count": 25,
     "metadata": {},
     "output_type": "execute_result"
    },
    {
     "data": {
      "image/png": "[encoded data removed]",
      "text/plain": [
       "<Figure size 432x288 with 1 Axes>"
      ]
     },
     "metadata": {
      "needs_background": "light"
     },
     "output_type": "display_data"
    }
   ],
   "source": [
    "plt.imshow(a)"
   ]
  },
  {
   "cell_type": "code",
   "execution_count": 26,
   "metadata": {},
   "outputs": [
    {
     "data": {
      "text/plain": [
       "<matplotlib.image.AxesImage at 0x7ff8840e3208>"
      ]
     },
     "execution_count": 26,
     "metadata": {},
     "output_type": "execute_result"
    },
    {
     "data": {
      "image/png": "[encoded data removed]",
      "text/plain": [
       "<Figure size 432x288 with 1 Axes>"
      ]
     },
     "metadata": {
      "needs_background": "light"
     },
     "output_type": "display_data"
    }
   ],
   "source": [
    "plt.imshow(b)"
   ]
  },
  {
   "cell_type": "code",
   "execution_count": 27,
   "metadata": {},
   "outputs": [
    {
     "data": {
      "text/plain": [
       "(0.015686275, 1.0)"
      ]
     },
     "execution_count": 27,
     "metadata": {},
     "output_type": "execute_result"
    }
   ],
   "source": [
    "a.min(), a.max()"
   ]
  },
  {
   "cell_type": "markdown",
   "metadata": {},
   "source": [
    "# Model"
   ]
  },
  {
   "cell_type": "code",
   "execution_count": 17,
   "metadata": {},
   "outputs": [],
   "source": [
    "from train_ops import network"
   ]
  },
  {
   "cell_type": "code",
   "execution_count": 18,
   "metadata": {},
   "outputs": [
    {
     "name": "stdout",
     "output_type": "stream",
     "text": [
      "WARNING:tensorflow:From /home/abhi/internship/study/siamese_reid/train_ops.py:75: The name tf.variable_scope is deprecated. Please use tf.compat.v1.variable_scope instead.\n",
      "\n",
      "WARNING:tensorflow:From /home/abhi/internship/study/siamese_reid/train_ops.py:75: The name tf.AUTO_REUSE is deprecated. Please use tf.compat.v1.AUTO_REUSE instead.\n",
      "\n",
      "(8, 256, 128, 3)\n",
      "WARNING:tensorflow:\n",
      "The TensorFlow contrib module will not be included in TensorFlow 2.0.\n",
      "For more information, please see:\n",
      "  * https://github.com/tensorflow/community/blob/master/rfcs/20180907-contrib-sunset.md\n",
      "  * https://github.com/tensorflow/addons\n",
      "  * https://github.com/tensorflow/io (for I/O related ops)\n",
      "If you depend on functionality not listed there, please file an issue.\n",
      "\n",
      "(8, 256, 128, 256)\n",
      "WARNING:tensorflow:From /home/abhi/internship/study/siamese_reid/train_ops.py:19: max_pooling2d (from tensorflow.python.layers.pooling) is deprecated and will be removed in a future version.\n",
      "Instructions for updating:\n",
      "Use keras.layers.MaxPooling2D instead.\n",
      "(8, 128, 64, 256)\n",
      "(8, 128, 64, 128)\n",
      "(8, 64, 32, 128)\n",
      "(8, 64, 32, 64)\n",
      "(8, 32, 16, 64)\n",
      "(8, 32, 16, 32)\n",
      "(8, 16, 8, 32)\n",
      "(8, 4096)\n",
      "WARNING:tensorflow:From /home/abhi/internship/study/siamese_reid/train_ops.py:26: dense (from tensorflow.python.layers.core) is deprecated and will be removed in a future version.\n",
      "Instructions for updating:\n",
      "Use keras.layers.dense instead.\n",
      "WARNING:tensorflow:From /home/abhi/.local/lib/python3.6/site-packages/tensorflow/python/ops/init_ops.py:1251: calling VarianceScaling.__init__ (from tensorflow.python.ops.init_ops) with dtype is deprecated and will be removed in a future version.\n",
      "Instructions for updating:\n",
      "Call initializer instance with the dtype argument instead of passing it to the constructor\n",
      "(8, 4096)\n",
      "(8, 256, 128, 3)\n",
      "(8, 256, 128, 256)\n",
      "(8, 128, 64, 256)\n",
      "(8, 128, 64, 128)\n",
      "(8, 64, 32, 128)\n",
      "(8, 64, 32, 64)\n",
      "(8, 32, 16, 64)\n",
      "(8, 32, 16, 32)\n",
      "(8, 16, 8, 32)\n",
      "(8, 4096)\n",
      "(8, 4096)\n",
      "[*] Model ran\n"
     ]
    }
   ],
   "source": [
    "logits, left_features, right_features = network(left_im, right_im, is_training=True, batch_size=BATCH_SIZE)"
   ]
  },
  {
   "cell_type": "code",
   "execution_count": 51,
   "metadata": {},
   "outputs": [
    {
     "data": {
      "text/plain": [
       "(128, 256)"
      ]
     },
     "execution_count": 51,
     "metadata": {},
     "output_type": "execute_result"
    }
   ],
   "source": [
    "im.size"
   ]
  },
  {
   "cell_type": "code",
   "execution_count": 52,
   "metadata": {},
   "outputs": [],
   "source": [
    "im_np = np.array(im)"
   ]
  },
  {
   "cell_type": "code",
   "execution_count": 53,
   "metadata": {},
   "outputs": [
    {
     "data": {
      "text/plain": [
       "(256, 128, 3)"
      ]
     },
     "execution_count": 53,
     "metadata": {},
     "output_type": "execute_result"
    }
   ],
   "source": [
    "im_np.shape"
   ]
  },
  {
   "cell_type": "code",
   "execution_count": 55,
   "metadata": {},
   "outputs": [],
   "source": [
    "im_np = im_np/255.0"
   ]
  },
  {
   "cell_type": "code",
   "execution_count": 56,
   "metadata": {},
   "outputs": [
    {
     "data": {
      "text/plain": [
       "(0.00784313725490196, 1.0)"
      ]
     },
     "execution_count": 56,
     "metadata": {},
     "output_type": "execute_result"
    }
   ],
   "source": [
    "im_np.min(), im_np.max()"
   ]
  },
  {
   "cell_type": "code",
   "execution_count": 57,
   "metadata": {},
   "outputs": [
    {
     "data": {
      "text/plain": [
       "<matplotlib.image.AxesImage at 0x7f82288364a8>"
      ]
     },
     "execution_count": 57,
     "metadata": {},
     "output_type": "execute_result"
    },
    {
     "data": {
      "image/png": "[encoded data removed]",
      "text/plain": [
       "<Figure size 432x288 with 1 Axes>"
      ]
     },
     "metadata": {
      "needs_background": "light"
     },
     "output_type": "display_data"
    }
   ],
   "source": [
    "plt.imshow(im_np)"
   ]
  },
  {
   "cell_type": "code",
   "execution_count": 13,
   "metadata": {},
   "outputs": [],
   "source": [
    "from train_ops import network, contrastive_loss"
   ]
  },
  {
   "cell_type": "code",
   "execution_count": 14,
   "metadata": {
    "collapsed": true,
    "jupyter": {
     "outputs_hidden": true
    }
   },
   "outputs": [
    {
     "name": "stdout",
     "output_type": "stream",
     "text": [
      "WARNING:tensorflow:From /home/abhi/internship/study/fastbook/train_ops.py:73: The name tf.variable_scope is deprecated. Please use tf.compat.v1.variable_scope instead.\n",
      "\n",
      "WARNING:tensorflow:From /home/abhi/internship/study/fastbook/train_ops.py:73: The name tf.AUTO_REUSE is deprecated. Please use tf.compat.v1.AUTO_REUSE instead.\n",
      "\n",
      "(8, 256, 128, 3)\n",
      "WARNING:tensorflow:\n",
      "The TensorFlow contrib module will not be included in TensorFlow 2.0.\n",
      "For more information, please see:\n",
      "  * https://github.com/tensorflow/community/blob/master/rfcs/20180907-contrib-sunset.md\n",
      "  * https://github.com/tensorflow/addons\n",
      "  * https://github.com/tensorflow/io (for I/O related ops)\n",
      "If you depend on functionality not listed there, please file an issue.\n",
      "\n",
      "(8, 256, 128, 256)\n",
      "WARNING:tensorflow:From /home/abhi/internship/study/fastbook/train_ops.py:19: max_pooling2d (from tensorflow.python.layers.pooling) is deprecated and will be removed in a future version.\n",
      "Instructions for updating:\n",
      "Use keras.layers.MaxPooling2D instead.\n",
      "(8, 128, 64, 256)\n",
      "(8, 128, 64, 128)\n",
      "(8, 64, 32, 128)\n",
      "(8, 64, 32, 64)\n",
      "(8, 32, 16, 64)\n",
      "(8, 32, 16, 32)\n",
      "(8, 16, 8, 32)\n",
      "WARNING:tensorflow:From /home/abhi/.local/lib/python3.6/site-packages/tensorflow/contrib/layers/python/layers/layers.py:1634: flatten (from tensorflow.python.layers.core) is deprecated and will be removed in a future version.\n",
      "Instructions for updating:\n",
      "Use keras.layers.flatten instead.\n",
      "(8, 4096)\n",
      "WARNING:tensorflow:From /home/abhi/internship/study/fastbook/train_ops.py:25: dense (from tensorflow.python.layers.core) is deprecated and will be removed in a future version.\n",
      "Instructions for updating:\n",
      "Use keras.layers.dense instead.\n",
      "WARNING:tensorflow:From /home/abhi/.local/lib/python3.6/site-packages/tensorflow/python/ops/init_ops.py:1251: calling VarianceScaling.__init__ (from tensorflow.python.ops.init_ops) with dtype is deprecated and will be removed in a future version.\n",
      "Instructions for updating:\n",
      "Call initializer instance with the dtype argument instead of passing it to the constructor\n",
      "(8, 4096)\n",
      "(8, 256, 128, 3)\n",
      "(8, 256, 128, 256)\n",
      "(8, 128, 64, 256)\n",
      "(8, 128, 64, 128)\n",
      "(8, 64, 32, 128)\n",
      "(8, 64, 32, 64)\n",
      "(8, 32, 16, 64)\n",
      "(8, 32, 16, 32)\n",
      "(8, 16, 8, 32)\n",
      "(8, 4096)\n",
      "(8, 4096)\n"
     ]
    }
   ],
   "source": [
    "logits, left_feat, right_feat = network(left_im, right_im)"
   ]
  },
  {
   "cell_type": "code",
   "execution_count": 17,
   "metadata": {},
   "outputs": [],
   "source": [
    "contrastive_loss(left_feat, right_feat, logits, left_label, right_label, margin=0.2, use_loss=True)\n",
    "total_loss = tf.losses.get_total_loss()\n",
    "global_step = tf.Variable(0, trainable=False)"
   ]
  },
  {
   "cell_type": "code",
   "execution_count": 18,
   "metadata": {},
   "outputs": [],
   "source": [
    "params = tf.trainable_variables()\n",
    "gradients = tf.gradients(total_loss, params)\n",
    "optimizer = tf.train.AdamOptimizer(learning_rate=0.001)\n",
    "updates = optimizer.apply_gradients(zip(gradients, params), global_step=global_step)\n",
    "global_init = tf.variables_initializer(tf.global_variables())"
   ]
  },
  {
   "cell_type": "markdown",
   "metadata": {},
   "source": [
    "# Create Model"
   ]
  },
  {
   "cell_type": "code",
   "execution_count": 12,
   "metadata": {},
   "outputs": [],
   "source": [
    "def inference(left_input_image, right_input_image):\n",
    "    margin = 0.2\n",
    "    \"\"\"\n",
    "\tleft_input_image: 3D tensor input\n",
    "\tright_input_image: 3D tensor input\n",
    "\tlabel: 1 if images are from same category. 0 if not.\n",
    "\t\"\"\"\n",
    "    with tf.variable_scope('feature_generator', reuse=tf.AUTO_REUSE) as sc:\n",
    "\n",
    "        left_features = model(tf.layers.batch_normalization(left_input_image))\n",
    "        right_features = model(tf.layers.batch_normalization(right_input_image))\n",
    "\n",
    "    merged_features = tf.abs(tf.subtract(left_features, right_features))\n",
    "    logits = tf.contrib.layers.fully_connected(merged_features, num_outputs=1, activation_fn=None)\n",
    "    logits = tf.reshape(logits, [-1])\n",
    "    return logits, left_features, right_features"
   ]
  },
  {
   "cell_type": "code",
   "execution_count": null,
   "metadata": {},
   "outputs": [],
   "source": [
    "def combine_dataset(tfrecords_path,batch_size, image_size, same_prob, diff_prob, repeat=True, train=True, transfer=False):\n",
    "    \"\"\"\n",
    "\tInput:\n",
    "\t\timage size (int)\n",
    "\t\tbatch_size (int)\n",
    "\t\tsame_prob (float): probability of retaining images in same class\n",
    "\t\tdiff_prob (float): probability of retaining images in different class\n",
    "\t\ttrain (boolean): train or validation\n",
    "\t\trepeat (boolean): repeat elements in dataset\n",
    "\tReturn:\n",
    "\t\tzipped dataset\n",
    "\n",
    "\t\"\"\"\n",
    "    dataset_left = make_single_dataset(image_size, tfrecords_path, repeat=repeat, train=train, transfer=transfer)\n",
    "    dataset_right = make_single_dataset(image_size, tfrecords_path, repeat=repeat, train=train, transfer=transfer)\n",
    "    \n",
    "    dataset = tf.data.Dataset.zip((dataset_left, dataset_right))\n",
    "\n",
    "    if train:\n",
    "        filter_func = create_filter_func(same_prob, diff_prob)\n",
    "        dataset = dataset.filter(filter_func)\n",
    "    if repeat:\n",
    "        dataset = dataset.repeat()\n",
    "\n",
    "    dataset = dataset.batch(batch_size)\n",
    "    dataset = dataset.prefetch(1)\n",
    "    return dataset\n",
    "\n",
    "def make_single_dataset(image_size=[256, 128], tfrecords_path=\"./MARS/mars_train_00000-of-00001.tfrecord\", shuffle_buffer_size=2000, repeat=True, train=True, transfer=False):\n",
    "    \"\"\"\n",
    "\tInput:\n",
    "\t\timage_size: size of input images to network\n",
    "\t\ttfrecords_path: address to tfrecords file containing all image data\n",
    "\t\tshuffle_buffer_size: number of images to load into a memory for a shuffling \t\t\toperation.\n",
    "\t\trepeat (boolean): repeat dataset\n",
    "\t\ttrain (boolean): use in training\n",
    "\tFeatures:\n",
    "\t\timage: image tensor\n",
    "\t\tlabel: label tensor\n",
    "\t\theight: original image height\n",
    "\t\twidth: original image width\n",
    "\t\taddr: image address in file system\n",
    "\tReturns:\n",
    "\t\tDataset\n",
    "\t\"\"\"\n",
    "\n",
    "    image_size = tf.cast(image_size, tf.int32)\n",
    "\n",
    "    def _parse_function(example_proto):\n",
    "\n",
    "        features = {'image/class/label': tf.FixedLenFeature((), tf.int64, default_value=1),\n",
    "\t    \t'image/encoded': tf.FixedLenFeature((), tf.string, default_value=\"\"),\n",
    "\t    \t'image/height': tf.FixedLenFeature([], tf.int64),\n",
    "\t    \t'image/width': tf.FixedLenFeature([], tf.int64),\n",
    "\t    \t'image/format': tf.FixedLenFeature((), tf.string, default_value=\"\")}\n",
    "\n",
    "        parsed_features = tf.parse_single_example(example_proto, features)\n",
    "        image_buffer = parsed_features['image/encoded']\n",
    "\n",
    "        image = tf.image.decode_jpeg(image_buffer,channels=3)\n",
    "        image = tf.cast(image, tf.float32)\n",
    "\n",
    "        S = tf.stack([tf.cast(parsed_features['image/height'], tf.int32),\n",
    "    \t\ttf.cast(parsed_features['image/width'], tf.int32), 3])\n",
    "        image = tf.reshape(image, S)\n",
    "\n",
    "        image = tf.image.convert_image_dtype(image, tf.float32)\n",
    "\n",
    "        if transfer :\n",
    "            image = tf.image.resize_images(image, [224, 224]) ## Use only VGG19 for this\n",
    "        else : \n",
    "            image = tf.image.resize_images(image, [256, 128])\n",
    "\n",
    "        return image, parsed_features['image/class/label'], parsed_features['image/format']\n",
    "\n",
    "    filenames = [tfrecords_path]\n",
    "\n",
    "    dataset = tf.data.TFRecordDataset(filenames)\n",
    "    dataset = dataset.shuffle(shuffle_buffer_size)\n",
    "    dataset = dataset.map(_parse_function, num_parallel_calls=8)\n",
    "    return dataset\n"
   ]
  },
  {
   "cell_type": "code",
   "execution_count": 40,
   "metadata": {},
   "outputs": [
    {
     "ename": "NameError",
     "evalue": "name 'arg' is not defined",
     "output_type": "error",
     "traceback": [
      "\u001b[0;31m---------------------------------------------------------------------------\u001b[0m",
      "\u001b[0;31mNameError\u001b[0m                                 Traceback (most recent call last)",
      "\u001b[0;32m<ipython-input-40-ceaca5627a3b>\u001b[0m in \u001b[0;36masync-def-wrapper\u001b[0;34m()\u001b[0m\n\u001b[1;32m      6\u001b[0m    \u001b[0mval_record\u001b[0m \u001b[0;34m=\u001b[0m \u001b[0mstr\u001b[0m\u001b[0;34m(\u001b[0m\u001b[0mglob\u001b[0m\u001b[0;34m.\u001b[0m\u001b[0mglob\u001b[0m\u001b[0;34m(\u001b[0m\u001b[0mstr\u001b[0m\u001b[0;34m(\u001b[0m\u001b[0mPath\u001b[0m\u001b[0;34m(\u001b[0m\u001b[0marg\u001b[0m\u001b[0;34m.\u001b[0m\u001b[0mpath\u001b[0m\u001b[0;34m)\u001b[0m\u001b[0;34m)\u001b[0m \u001b[0;34m+\u001b[0m \u001b[0;34m'/*validation*.tfrecord'\u001b[0m\u001b[0;34m)\u001b[0m\u001b[0;34m[\u001b[0m\u001b[0;36m0\u001b[0m\u001b[0;34m]\u001b[0m\u001b[0;34m)\u001b[0m\u001b[0;34m\u001b[0m\u001b[0;34m\u001b[0m\u001b[0m\n",
      "\u001b[0;31mNameError\u001b[0m: name 'arg' is not defined"
     ]
    }
   ],
   "source": [
    " ## Hard coded values, could be passed as arguments\n",
    "batch_size = 32\n",
    "max_epoch = 200\n",
    "\n",
    "dataset_dir = '/home/abhi/internship/study'\n",
    "\n",
    "train_record = str(glob.glob(str(Path(arg.path)) + '/*train*.tfrecord')[0])\n",
    "val_record = str(glob.glob(str(Path(arg.path)) + '/*validation*.tfrecord')[0])\n"
   ]
  },
  {
   "cell_type": "code",
   "execution_count": 34,
   "metadata": {
    "collapsed": true,
    "jupyter": {
     "outputs_hidden": true
    }
   },
   "outputs": [
    {
     "name": "stdout",
     "output_type": "stream",
     "text": [
      "/home/abhi/.local/lib/python3.6/site-packages/tensorflow/python/framework/dtypes.py:516: FutureWarning: Passing (type, 1) or '1type' as a synonym of type is deprecated; in a future version of numpy, it will be understood as (type, (1,)) / '(1,)type'.\n",
      "  _np_qint8 = np.dtype([(\"qint8\", np.int8, 1)])\n",
      "/home/abhi/.local/lib/python3.6/site-packages/tensorflow/python/framework/dtypes.py:517: FutureWarning: Passing (type, 1) or '1type' as a synonym of type is deprecated; in a future version of numpy, it will be understood as (type, (1,)) / '(1,)type'.\n",
      "  _np_quint8 = np.dtype([(\"quint8\", np.uint8, 1)])\n",
      "/home/abhi/.local/lib/python3.6/site-packages/tensorflow/python/framework/dtypes.py:518: FutureWarning: Passing (type, 1) or '1type' as a synonym of type is deprecated; in a future version of numpy, it will be understood as (type, (1,)) / '(1,)type'.\n",
      "  _np_qint16 = np.dtype([(\"qint16\", np.int16, 1)])\n",
      "/home/abhi/.local/lib/python3.6/site-packages/tensorflow/python/framework/dtypes.py:519: FutureWarning: Passing (type, 1) or '1type' as a synonym of type is deprecated; in a future version of numpy, it will be understood as (type, (1,)) / '(1,)type'.\n",
      "  _np_quint16 = np.dtype([(\"quint16\", np.uint16, 1)])\n",
      "/home/abhi/.local/lib/python3.6/site-packages/tensorflow/python/framework/dtypes.py:520: FutureWarning: Passing (type, 1) or '1type' as a synonym of type is deprecated; in a future version of numpy, it will be understood as (type, (1,)) / '(1,)type'.\n",
      "  _np_qint32 = np.dtype([(\"qint32\", np.int32, 1)])\n",
      "/home/abhi/.local/lib/python3.6/site-packages/tensorflow/python/framework/dtypes.py:525: FutureWarning: Passing (type, 1) or '1type' as a synonym of type is deprecated; in a future version of numpy, it will be understood as (type, (1,)) / '(1,)type'.\n",
      "  np_resource = np.dtype([(\"resource\", np.ubyte, 1)])\n",
      "/home/abhi/.local/lib/python3.6/site-packages/tensorboard/compat/tensorflow_stub/dtypes.py:541: FutureWarning: Passing (type, 1) or '1type' as a synonym of type is deprecated; in a future version of numpy, it will be understood as (type, (1,)) / '(1,)type'.\n",
      "  _np_qint8 = np.dtype([(\"qint8\", np.int8, 1)])\n",
      "/home/abhi/.local/lib/python3.6/site-packages/tensorboard/compat/tensorflow_stub/dtypes.py:542: FutureWarning: Passing (type, 1) or '1type' as a synonym of type is deprecated; in a future version of numpy, it will be understood as (type, (1,)) / '(1,)type'.\n",
      "  _np_quint8 = np.dtype([(\"quint8\", np.uint8, 1)])\n",
      "/home/abhi/.local/lib/python3.6/site-packages/tensorboard/compat/tensorflow_stub/dtypes.py:543: FutureWarning: Passing (type, 1) or '1type' as a synonym of type is deprecated; in a future version of numpy, it will be understood as (type, (1,)) / '(1,)type'.\n",
      "  _np_qint16 = np.dtype([(\"qint16\", np.int16, 1)])\n",
      "/home/abhi/.local/lib/python3.6/site-packages/tensorboard/compat/tensorflow_stub/dtypes.py:544: FutureWarning: Passing (type, 1) or '1type' as a synonym of type is deprecated; in a future version of numpy, it will be understood as (type, (1,)) / '(1,)type'.\n",
      "  _np_quint16 = np.dtype([(\"quint16\", np.uint16, 1)])\n",
      "/home/abhi/.local/lib/python3.6/site-packages/tensorboard/compat/tensorflow_stub/dtypes.py:545: FutureWarning: Passing (type, 1) or '1type' as a synonym of type is deprecated; in a future version of numpy, it will be understood as (type, (1,)) / '(1,)type'.\n",
      "  _np_qint32 = np.dtype([(\"qint32\", np.int32, 1)])\n",
      "/home/abhi/.local/lib/python3.6/site-packages/tensorboard/compat/tensorflow_stub/dtypes.py:550: FutureWarning: Passing (type, 1) or '1type' as a synonym of type is deprecated; in a future version of numpy, it will be understood as (type, (1,)) / '(1,)type'.\n",
      "  np_resource = np.dtype([(\"resource\", np.ubyte, 1)])\n",
      "TFRecords already created!\n"
     ]
    }
   ],
   "source": [
    "! python data_tfrecord.py"
   ]
  },
  {
   "cell_type": "code",
   "execution_count": 42,
   "metadata": {},
   "outputs": [],
   "source": [
    "import glob\n",
    "import os\n",
    "import random\n",
    "import numpy as np\n",
    "import sys\n",
    "import PIL\n",
    "from pathlib import Path"
   ]
  },
  {
   "cell_type": "code",
   "execution_count": 6,
   "metadata": {},
   "outputs": [
    {
     "data": {
      "text/plain": [
       "'/home/abhi/internship/study/fastbook'"
      ]
     },
     "execution_count": 6,
     "metadata": {},
     "output_type": "execute_result"
    }
   ],
   "source": [
    "pwd"
   ]
  },
  {
   "cell_type": "code",
   "execution_count": 7,
   "metadata": {},
   "outputs": [],
   "source": [
    "def get_filenames(data_root):\n",
    "    directories, categories, filenames = [], [], []\n",
    "    if os.path.exists(data_root):\n",
    "        for filename in os.listdir(data_root):\n",
    "            path = os.path.join(data_root, filename)\n",
    "            if os.path.isdir(path):\n",
    "                directories.append(path)\n",
    "                categories.append(filename)\n",
    "        for directory in directories:\n",
    "            for filename in os.listdir(directory):\n",
    "                path = os.path.join(directory, filename)\n",
    "                filenames.append(path)\n",
    "    return filenames, categories"
   ]
  },
  {
   "cell_type": "code",
   "execution_count": 8,
   "metadata": {},
   "outputs": [],
   "source": [
    "dataset_dir = '/home/abhi/internship/study'\n",
    "train_data = 'bbox_train'\n",
    "test_data = 'bbox_test'\n",
    "validation_size = 0.2\n",
    "\n",
    "train_data_root = os.path.join(dataset_dir, train_data)\n",
    "test_data_root = os.path.join(dataset_dir, test_data)\n",
    "filenames, categories = get_filenames(train_data_root)\n",
    "test_fnames, test_categories = get_filenames(test_data_root)"
   ]
  },
  {
   "cell_type": "code",
   "execution_count": 15,
   "metadata": {},
   "outputs": [],
   "source": [
    "# Temporary Settings\n",
    "filenames = filenames[:1000]"
   ]
  },
  {
   "cell_type": "code",
   "execution_count": 16,
   "metadata": {},
   "outputs": [
    {
     "data": {
      "text/plain": [
       "(1000, 625)"
      ]
     },
     "execution_count": 16,
     "metadata": {},
     "output_type": "execute_result"
    }
   ],
   "source": [
    "len(filenames), len(categories)"
   ]
  },
  {
   "cell_type": "code",
   "execution_count": 17,
   "metadata": {},
   "outputs": [
    {
     "data": {
      "text/plain": [
       "(0, 0)"
      ]
     },
     "execution_count": 17,
     "metadata": {},
     "output_type": "execute_result"
    }
   ],
   "source": [
    "len(test_fnames), len(test_categories)"
   ]
  },
  {
   "cell_type": "code",
   "execution_count": 19,
   "metadata": {},
   "outputs": [],
   "source": [
    "validation_size = 0.2\n",
    "train_category2ids = dict(zip(categories, range(len(categories))))\n",
    "test_category2ids = dict(zip(test_categories, range(len(test_categories))))\n",
    "val_size = int(validation_size * len(filenames))\n",
    "\n",
    "random.seed(32)\n",
    "random.shuffle(filenames)\n",
    "train_fnames = filenames[val_size:]\n",
    "val_fnames = filenames[:val_size]"
   ]
  },
  {
   "cell_type": "code",
   "execution_count": 20,
   "metadata": {},
   "outputs": [
    {
     "data": {
      "text/plain": [
       "1000"
      ]
     },
     "execution_count": 20,
     "metadata": {},
     "output_type": "execute_result"
    }
   ],
   "source": [
    "len(filenames)"
   ]
  },
  {
   "cell_type": "code",
   "execution_count": 43,
   "metadata": {},
   "outputs": [
    {
     "data": {
      "text/plain": [
       "(800, 200)"
      ]
     },
     "execution_count": 43,
     "metadata": {},
     "output_type": "execute_result"
    }
   ],
   "source": [
    "len(train_fnames), len(val_fnames)"
   ]
  },
  {
   "cell_type": "code",
   "execution_count": 32,
   "metadata": {},
   "outputs": [],
   "source": [
    "import tensorflow as tf\n",
    "import warnings\n",
    "warnings.filterwarnings(\"ignore\")\n",
    "\n",
    "def _int64_feature(value):\n",
    "    return tf.train.Feature(int64_list=tf.train.Int64List(value=[value]))\n",
    "def _bytes_feature(value):\n",
    "    return tf.train.Feature(bytes_list=tf.train.BytesList(value=[value]))\n",
    "\n",
    "def get_filenames(data_root):\n",
    "    directories, categories, filenames = [], [], []\n",
    "    if os.path.exists(data_root):\n",
    "        for filename in os.listdir(data_root):\n",
    "            path = os.path.join(data_root, filename)\n",
    "            if os.path.isdir(path):\n",
    "                directories.append(path)\n",
    "                categories.append(filename)\n",
    "        for directory in directories:\n",
    "            for filename in os.listdir(directory):\n",
    "                path = os.path.join(directory, filename)\n",
    "                filenames.append(path)\n",
    "    return filenames, categories\n",
    "\n",
    "def createDataRecord(out_filename, fnames, category2ids):\n",
    "    # open the TFRecords file\n",
    "    writer = tf.python_io.TFRecordWriter(out_filename)\n",
    "    for i in range(len(fnames)):\n",
    "        # print how many images are saved every 1000 images\n",
    "        if not i % 100:\n",
    "            print(f'{out_filename}: {i}/{len(fnames)}')\n",
    "            sys.stdout.flush()\n",
    "        # Load the image\n",
    "        img = np.array(PIL.Image.open(fnames[i]))\n",
    "\n",
    "        if img is None:\n",
    "            continue\n",
    "        \n",
    "        height = img.shape[0]\n",
    "        width = img.shape[1]\n",
    "        \n",
    "        cat_name = os.path.basename(os.path.dirname(fnames[i]))\n",
    "        cat_id = category2ids[cat_name]\n",
    "        \n",
    "        # Create a feature\n",
    "        feature = {\n",
    "            'image/encoded': _bytes_feature(img.tostring()),\n",
    "            'image/format': _bytes_feature( b'jpg'),\n",
    "            'image/category': _int64_feature(cat_id),\n",
    "            'image/height': _int64_feature(height),\n",
    "            'image/width': _int64_feature(width)\n",
    "        }\n",
    "        \n",
    "        # Create an example protocol buffer\n",
    "        example = tf.train.Example(features=tf.train.Features(feature=feature))\n",
    "        \n",
    "        # Serialize to string and write on the file\n",
    "        writer.write(example.SerializeToString())\n",
    "        \n",
    "    writer.close()\n",
    "    sys.stdout.flush()\n",
    "    \n",
    "    \n",
    "def main():  \n",
    "    dataset_dir = '/home/abhi/internship/study'\n",
    "    train_data = 'bbox_train'\n",
    "    test_data = 'bbox_test'\n",
    "    validation_size = 0.2\n",
    "\n",
    "    train_data_root = os.path.join(dataset_dir, train_data)\n",
    "    test_data_root = os.path.join(dataset_dir, test_data)\n",
    "    filenames, categories = get_filenames(train_data_root)\n",
    "    test_fnames, test_categories = get_filenames(test_data_root)\n",
    "\n",
    "    # Temporary Settings\n",
    "    filenames = filenames[:1000]\n",
    "\n",
    "    validation_size = 0.2\n",
    "    train_category2ids = dict(zip(categories, range(len(categories))))\n",
    "    test_category2ids = dict(zip(test_categories, range(len(test_categories))))\n",
    "    val_size = int(validation_size * len(filenames))\n",
    "\n",
    "    random.seed(32)\n",
    "    random.shuffle(filenames)\n",
    "    train_fnames = filenames[val_size:]\n",
    "    val_fnames = filenames[:val_size]\n",
    "\n",
    "    tf_record_dir = Path('./tf_records_data')\n",
    "    if not tf_record_dir.exists():\n",
    "        tf_record_dir.mkdir(parents=True)\n",
    "        createDataRecord(str(tf_record_dir/'train.tfrecords'), train_fnames, train_category2ids)\n",
    "        createDataRecord(str(tf_record_dir/'val.tfrecords'), val_fnames, train_category2ids)\n",
    "        createDataRecord(str(tf_record_dir/'test.tfrecords'), test_fnames, test_category2ids)\n",
    "    else:\n",
    "        print (\"TFRecords already created!\")\n",
    "        \n",
    "\n",
    "if __name__ == '__main__':\n",
    "    main()\n"
   ]
  },
  {
   "cell_type": "code",
   "execution_count": null,
   "metadata": {},
   "outputs": [],
   "source": [
    "def _dataset_exists(dataset_dir, _NUM_SHARDS, output_filename):\n",
    "  for split_name in ['train', 'validation']:\n",
    "    for shard_id in range(_NUM_SHARDS):\n",
    "      tfrecord_filename = _get_dataset_filename(\n",
    "          dataset_dir, split_name, shard_id, output_filename, _NUM_SHARDS)\n",
    "      if not tf.gfile.Exists(tfrecord_filename):\n",
    "        return False\n",
    "  return True"
   ]
  },
  {
   "cell_type": "code",
   "execution_count": 19,
   "metadata": {
    "collapsed": true,
    "jupyter": {
     "outputs_hidden": true
    }
   },
   "outputs": [
    {
     "name": "stdout",
     "output_type": "stream",
     "text": [
      "train.tfrecords: 0/407932\n",
      "train.tfrecords: 1000/407932\n",
      "train.tfrecords: 2000/407932\n",
      "train.tfrecords: 3000/407932\n",
      "train.tfrecords: 4000/407932\n",
      "train.tfrecords: 5000/407932\n",
      "train.tfrecords: 6000/407932\n",
      "train.tfrecords: 7000/407932\n",
      "train.tfrecords: 8000/407932\n",
      "train.tfrecords: 9000/407932\n",
      "train.tfrecords: 10000/407932\n",
      "train.tfrecords: 11000/407932\n",
      "train.tfrecords: 12000/407932\n",
      "train.tfrecords: 13000/407932\n",
      "train.tfrecords: 14000/407932\n",
      "train.tfrecords: 15000/407932\n",
      "train.tfrecords: 16000/407932\n",
      "train.tfrecords: 17000/407932\n",
      "train.tfrecords: 18000/407932\n",
      "train.tfrecords: 19000/407932\n",
      "train.tfrecords: 20000/407932\n",
      "train.tfrecords: 21000/407932\n",
      "train.tfrecords: 22000/407932\n",
      "train.tfrecords: 23000/407932\n",
      "train.tfrecords: 24000/407932\n",
      "train.tfrecords: 25000/407932\n",
      "train.tfrecords: 26000/407932\n",
      "train.tfrecords: 27000/407932\n",
      "train.tfrecords: 28000/407932\n",
      "train.tfrecords: 29000/407932\n",
      "train.tfrecords: 30000/407932\n",
      "train.tfrecords: 31000/407932\n",
      "train.tfrecords: 32000/407932\n",
      "train.tfrecords: 33000/407932\n",
      "train.tfrecords: 34000/407932\n",
      "train.tfrecords: 35000/407932\n",
      "train.tfrecords: 36000/407932\n",
      "train.tfrecords: 37000/407932\n",
      "train.tfrecords: 38000/407932\n",
      "train.tfrecords: 39000/407932\n",
      "train.tfrecords: 40000/407932\n",
      "train.tfrecords: 41000/407932\n",
      "train.tfrecords: 42000/407932\n",
      "train.tfrecords: 43000/407932\n",
      "train.tfrecords: 44000/407932\n",
      "train.tfrecords: 45000/407932\n",
      "train.tfrecords: 46000/407932\n",
      "train.tfrecords: 47000/407932\n",
      "train.tfrecords: 48000/407932\n",
      "train.tfrecords: 49000/407932\n",
      "train.tfrecords: 50000/407932\n",
      "train.tfrecords: 51000/407932\n",
      "train.tfrecords: 52000/407932\n",
      "train.tfrecords: 53000/407932\n",
      "train.tfrecords: 54000/407932\n",
      "train.tfrecords: 55000/407932\n",
      "train.tfrecords: 56000/407932\n",
      "train.tfrecords: 57000/407932\n",
      "train.tfrecords: 58000/407932\n",
      "train.tfrecords: 59000/407932\n",
      "train.tfrecords: 60000/407932\n",
      "train.tfrecords: 61000/407932\n",
      "train.tfrecords: 62000/407932\n",
      "train.tfrecords: 63000/407932\n",
      "train.tfrecords: 64000/407932\n",
      "train.tfrecords: 65000/407932\n",
      "train.tfrecords: 66000/407932\n",
      "train.tfrecords: 67000/407932\n",
      "train.tfrecords: 68000/407932\n",
      "train.tfrecords: 69000/407932\n",
      "train.tfrecords: 70000/407932\n",
      "train.tfrecords: 71000/407932\n",
      "train.tfrecords: 72000/407932\n",
      "train.tfrecords: 73000/407932\n",
      "train.tfrecords: 74000/407932\n",
      "train.tfrecords: 75000/407932\n",
      "train.tfrecords: 76000/407932\n",
      "train.tfrecords: 77000/407932\n",
      "train.tfrecords: 78000/407932\n",
      "train.tfrecords: 79000/407932\n",
      "train.tfrecords: 80000/407932\n",
      "train.tfrecords: 81000/407932\n",
      "train.tfrecords: 82000/407932\n",
      "train.tfrecords: 83000/407932\n",
      "train.tfrecords: 84000/407932\n",
      "train.tfrecords: 85000/407932\n",
      "train.tfrecords: 86000/407932\n",
      "train.tfrecords: 87000/407932\n",
      "train.tfrecords: 88000/407932\n",
      "train.tfrecords: 89000/407932\n",
      "train.tfrecords: 90000/407932\n",
      "train.tfrecords: 91000/407932\n",
      "train.tfrecords: 92000/407932\n",
      "train.tfrecords: 93000/407932\n",
      "train.tfrecords: 94000/407932\n",
      "train.tfrecords: 95000/407932\n",
      "train.tfrecords: 96000/407932\n",
      "train.tfrecords: 97000/407932\n",
      "train.tfrecords: 98000/407932\n",
      "train.tfrecords: 99000/407932\n",
      "train.tfrecords: 100000/407932\n",
      "train.tfrecords: 101000/407932\n",
      "train.tfrecords: 102000/407932\n",
      "train.tfrecords: 103000/407932\n",
      "train.tfrecords: 104000/407932\n",
      "train.tfrecords: 105000/407932\n",
      "train.tfrecords: 106000/407932\n",
      "train.tfrecords: 107000/407932\n",
      "train.tfrecords: 108000/407932\n",
      "train.tfrecords: 109000/407932\n",
      "train.tfrecords: 110000/407932\n",
      "train.tfrecords: 111000/407932\n",
      "train.tfrecords: 112000/407932\n",
      "train.tfrecords: 113000/407932\n",
      "train.tfrecords: 114000/407932\n",
      "train.tfrecords: 115000/407932\n",
      "train.tfrecords: 116000/407932\n",
      "train.tfrecords: 117000/407932\n",
      "train.tfrecords: 118000/407932\n",
      "train.tfrecords: 119000/407932\n",
      "train.tfrecords: 120000/407932\n",
      "train.tfrecords: 121000/407932\n",
      "train.tfrecords: 122000/407932\n",
      "train.tfrecords: 123000/407932\n",
      "train.tfrecords: 124000/407932\n",
      "train.tfrecords: 125000/407932\n",
      "train.tfrecords: 126000/407932\n",
      "train.tfrecords: 127000/407932\n",
      "train.tfrecords: 128000/407932\n",
      "train.tfrecords: 129000/407932\n",
      "train.tfrecords: 130000/407932\n",
      "train.tfrecords: 131000/407932\n",
      "train.tfrecords: 132000/407932\n",
      "train.tfrecords: 133000/407932\n",
      "train.tfrecords: 134000/407932\n",
      "train.tfrecords: 135000/407932\n",
      "train.tfrecords: 136000/407932\n",
      "train.tfrecords: 137000/407932\n",
      "train.tfrecords: 138000/407932\n",
      "train.tfrecords: 139000/407932\n",
      "train.tfrecords: 140000/407932\n",
      "train.tfrecords: 141000/407932\n",
      "train.tfrecords: 142000/407932\n",
      "train.tfrecords: 143000/407932\n",
      "train.tfrecords: 144000/407932\n",
      "train.tfrecords: 145000/407932\n",
      "train.tfrecords: 146000/407932\n",
      "train.tfrecords: 147000/407932\n",
      "train.tfrecords: 148000/407932\n",
      "train.tfrecords: 149000/407932\n",
      "train.tfrecords: 150000/407932\n",
      "train.tfrecords: 151000/407932\n",
      "train.tfrecords: 152000/407932\n",
      "train.tfrecords: 153000/407932\n",
      "train.tfrecords: 154000/407932\n",
      "train.tfrecords: 155000/407932\n",
      "train.tfrecords: 156000/407932\n",
      "train.tfrecords: 157000/407932\n",
      "train.tfrecords: 158000/407932\n",
      "train.tfrecords: 159000/407932\n",
      "train.tfrecords: 160000/407932\n",
      "train.tfrecords: 161000/407932\n",
      "train.tfrecords: 162000/407932\n",
      "train.tfrecords: 163000/407932\n",
      "train.tfrecords: 164000/407932\n",
      "train.tfrecords: 165000/407932\n",
      "train.tfrecords: 166000/407932\n",
      "train.tfrecords: 167000/407932\n",
      "train.tfrecords: 168000/407932\n",
      "train.tfrecords: 169000/407932\n",
      "train.tfrecords: 170000/407932\n",
      "train.tfrecords: 171000/407932\n",
      "train.tfrecords: 172000/407932\n",
      "train.tfrecords: 173000/407932\n",
      "train.tfrecords: 174000/407932\n",
      "train.tfrecords: 175000/407932\n",
      "train.tfrecords: 176000/407932\n",
      "train.tfrecords: 177000/407932\n",
      "train.tfrecords: 178000/407932\n",
      "train.tfrecords: 179000/407932\n",
      "train.tfrecords: 180000/407932\n",
      "train.tfrecords: 181000/407932\n",
      "train.tfrecords: 182000/407932\n",
      "train.tfrecords: 183000/407932\n",
      "train.tfrecords: 184000/407932\n",
      "train.tfrecords: 185000/407932\n",
      "train.tfrecords: 186000/407932\n",
      "train.tfrecords: 187000/407932\n",
      "train.tfrecords: 188000/407932\n",
      "train.tfrecords: 189000/407932\n",
      "train.tfrecords: 190000/407932\n",
      "train.tfrecords: 191000/407932\n",
      "train.tfrecords: 192000/407932\n",
      "train.tfrecords: 193000/407932\n",
      "train.tfrecords: 194000/407932\n",
      "train.tfrecords: 195000/407932\n",
      "train.tfrecords: 196000/407932\n",
      "train.tfrecords: 197000/407932\n",
      "train.tfrecords: 198000/407932\n",
      "train.tfrecords: 199000/407932\n",
      "train.tfrecords: 200000/407932\n",
      "train.tfrecords: 201000/407932\n",
      "train.tfrecords: 202000/407932\n",
      "train.tfrecords: 203000/407932\n",
      "train.tfrecords: 204000/407932\n",
      "train.tfrecords: 205000/407932\n",
      "train.tfrecords: 206000/407932\n",
      "train.tfrecords: 207000/407932\n",
      "train.tfrecords: 208000/407932\n",
      "train.tfrecords: 209000/407932\n",
      "train.tfrecords: 210000/407932\n",
      "train.tfrecords: 211000/407932\n",
      "train.tfrecords: 212000/407932\n",
      "train.tfrecords: 213000/407932\n",
      "train.tfrecords: 214000/407932\n",
      "train.tfrecords: 215000/407932\n",
      "train.tfrecords: 216000/407932\n",
      "train.tfrecords: 217000/407932\n",
      "train.tfrecords: 218000/407932\n",
      "train.tfrecords: 219000/407932\n",
      "train.tfrecords: 220000/407932\n",
      "train.tfrecords: 221000/407932\n",
      "train.tfrecords: 222000/407932\n",
      "train.tfrecords: 223000/407932\n",
      "train.tfrecords: 224000/407932\n",
      "train.tfrecords: 225000/407932\n",
      "train.tfrecords: 226000/407932\n",
      "train.tfrecords: 227000/407932\n",
      "train.tfrecords: 228000/407932\n",
      "train.tfrecords: 229000/407932\n",
      "train.tfrecords: 230000/407932\n",
      "train.tfrecords: 231000/407932\n",
      "train.tfrecords: 232000/407932\n",
      "train.tfrecords: 233000/407932\n",
      "train.tfrecords: 234000/407932\n",
      "train.tfrecords: 235000/407932\n",
      "train.tfrecords: 236000/407932\n",
      "train.tfrecords: 237000/407932\n",
      "train.tfrecords: 238000/407932\n",
      "train.tfrecords: 239000/407932\n",
      "train.tfrecords: 240000/407932\n",
      "train.tfrecords: 241000/407932\n",
      "train.tfrecords: 242000/407932\n",
      "train.tfrecords: 243000/407932\n",
      "train.tfrecords: 244000/407932\n",
      "train.tfrecords: 245000/407932\n",
      "train.tfrecords: 246000/407932\n",
      "train.tfrecords: 247000/407932\n",
      "train.tfrecords: 248000/407932\n",
      "train.tfrecords: 249000/407932\n",
      "train.tfrecords: 250000/407932\n",
      "train.tfrecords: 251000/407932\n",
      "train.tfrecords: 252000/407932\n",
      "train.tfrecords: 253000/407932\n",
      "train.tfrecords: 254000/407932\n",
      "train.tfrecords: 255000/407932\n",
      "train.tfrecords: 256000/407932\n",
      "train.tfrecords: 257000/407932\n",
      "train.tfrecords: 258000/407932\n",
      "train.tfrecords: 259000/407932\n",
      "train.tfrecords: 260000/407932\n",
      "train.tfrecords: 261000/407932\n",
      "train.tfrecords: 262000/407932\n",
      "train.tfrecords: 263000/407932\n",
      "train.tfrecords: 264000/407932\n",
      "train.tfrecords: 265000/407932\n",
      "train.tfrecords: 266000/407932\n",
      "train.tfrecords: 267000/407932\n",
      "train.tfrecords: 268000/407932\n",
      "train.tfrecords: 269000/407932\n",
      "train.tfrecords: 270000/407932\n",
      "train.tfrecords: 271000/407932\n",
      "train.tfrecords: 272000/407932\n",
      "train.tfrecords: 273000/407932\n",
      "train.tfrecords: 274000/407932\n",
      "train.tfrecords: 275000/407932\n",
      "train.tfrecords: 276000/407932\n",
      "train.tfrecords: 277000/407932\n",
      "train.tfrecords: 278000/407932\n",
      "train.tfrecords: 279000/407932\n",
      "train.tfrecords: 280000/407932\n",
      "train.tfrecords: 281000/407932\n",
      "train.tfrecords: 282000/407932\n",
      "train.tfrecords: 283000/407932\n",
      "train.tfrecords: 284000/407932\n",
      "train.tfrecords: 285000/407932\n",
      "train.tfrecords: 286000/407932\n",
      "train.tfrecords: 287000/407932\n",
      "train.tfrecords: 288000/407932\n",
      "train.tfrecords: 289000/407932\n",
      "train.tfrecords: 290000/407932\n",
      "train.tfrecords: 291000/407932\n",
      "train.tfrecords: 292000/407932\n",
      "train.tfrecords: 293000/407932\n",
      "train.tfrecords: 294000/407932\n",
      "train.tfrecords: 295000/407932\n",
      "train.tfrecords: 296000/407932\n",
      "train.tfrecords: 297000/407932\n",
      "train.tfrecords: 298000/407932\n",
      "train.tfrecords: 299000/407932\n",
      "train.tfrecords: 300000/407932\n",
      "train.tfrecords: 301000/407932\n",
      "train.tfrecords: 302000/407932\n",
      "train.tfrecords: 303000/407932\n",
      "train.tfrecords: 304000/407932\n",
      "train.tfrecords: 305000/407932\n",
      "train.tfrecords: 306000/407932\n",
      "train.tfrecords: 307000/407932\n",
      "train.tfrecords: 308000/407932\n",
      "train.tfrecords: 309000/407932\n",
      "train.tfrecords: 310000/407932\n",
      "train.tfrecords: 311000/407932\n",
      "train.tfrecords: 312000/407932\n",
      "train.tfrecords: 313000/407932\n",
      "train.tfrecords: 314000/407932\n",
      "train.tfrecords: 315000/407932\n",
      "train.tfrecords: 316000/407932\n",
      "train.tfrecords: 317000/407932\n",
      "train.tfrecords: 318000/407932\n",
      "train.tfrecords: 319000/407932\n",
      "train.tfrecords: 320000/407932\n",
      "train.tfrecords: 321000/407932\n",
      "train.tfrecords: 322000/407932\n",
      "train.tfrecords: 323000/407932\n",
      "train.tfrecords: 324000/407932\n",
      "train.tfrecords: 325000/407932\n",
      "train.tfrecords: 326000/407932\n",
      "train.tfrecords: 327000/407932\n",
      "train.tfrecords: 328000/407932\n",
      "train.tfrecords: 329000/407932\n",
      "train.tfrecords: 330000/407932\n",
      "train.tfrecords: 331000/407932\n",
      "train.tfrecords: 332000/407932\n",
      "train.tfrecords: 333000/407932\n",
      "train.tfrecords: 334000/407932\n",
      "train.tfrecords: 335000/407932\n",
      "train.tfrecords: 336000/407932\n",
      "train.tfrecords: 337000/407932\n",
      "train.tfrecords: 338000/407932\n",
      "train.tfrecords: 339000/407932\n",
      "train.tfrecords: 340000/407932\n",
      "train.tfrecords: 341000/407932\n",
      "train.tfrecords: 342000/407932\n",
      "train.tfrecords: 343000/407932\n",
      "train.tfrecords: 344000/407932\n",
      "train.tfrecords: 345000/407932\n",
      "train.tfrecords: 346000/407932\n",
      "train.tfrecords: 347000/407932\n",
      "train.tfrecords: 348000/407932\n",
      "train.tfrecords: 349000/407932\n",
      "train.tfrecords: 350000/407932\n",
      "train.tfrecords: 351000/407932\n",
      "train.tfrecords: 352000/407932\n",
      "train.tfrecords: 353000/407932\n",
      "train.tfrecords: 354000/407932\n",
      "train.tfrecords: 355000/407932\n",
      "train.tfrecords: 356000/407932\n",
      "train.tfrecords: 357000/407932\n",
      "train.tfrecords: 358000/407932\n",
      "train.tfrecords: 359000/407932\n",
      "train.tfrecords: 360000/407932\n",
      "train.tfrecords: 361000/407932\n",
      "train.tfrecords: 362000/407932\n",
      "train.tfrecords: 363000/407932\n",
      "train.tfrecords: 364000/407932\n",
      "train.tfrecords: 365000/407932\n",
      "train.tfrecords: 366000/407932\n",
      "train.tfrecords: 367000/407932\n",
      "train.tfrecords: 368000/407932\n",
      "train.tfrecords: 369000/407932\n",
      "train.tfrecords: 370000/407932\n",
      "train.tfrecords: 371000/407932\n",
      "train.tfrecords: 372000/407932\n",
      "train.tfrecords: 373000/407932\n",
      "train.tfrecords: 374000/407932\n",
      "train.tfrecords: 375000/407932\n",
      "train.tfrecords: 376000/407932\n",
      "train.tfrecords: 377000/407932\n",
      "train.tfrecords: 378000/407932\n",
      "train.tfrecords: 379000/407932\n",
      "train.tfrecords: 380000/407932\n",
      "train.tfrecords: 381000/407932\n",
      "train.tfrecords: 382000/407932\n",
      "train.tfrecords: 383000/407932\n",
      "train.tfrecords: 384000/407932\n",
      "train.tfrecords: 385000/407932\n",
      "train.tfrecords: 386000/407932\n",
      "train.tfrecords: 387000/407932\n",
      "train.tfrecords: 388000/407932\n",
      "train.tfrecords: 389000/407932\n",
      "train.tfrecords: 390000/407932\n",
      "train.tfrecords: 391000/407932\n",
      "train.tfrecords: 392000/407932\n",
      "train.tfrecords: 393000/407932\n",
      "train.tfrecords: 394000/407932\n",
      "train.tfrecords: 395000/407932\n",
      "train.tfrecords: 396000/407932\n",
      "train.tfrecords: 397000/407932\n",
      "train.tfrecords: 398000/407932\n",
      "train.tfrecords: 399000/407932\n",
      "train.tfrecords: 400000/407932\n",
      "train.tfrecords: 401000/407932\n",
      "train.tfrecords: 402000/407932\n",
      "train.tfrecords: 403000/407932\n",
      "train.tfrecords: 404000/407932\n",
      "train.tfrecords: 405000/407932\n",
      "train.tfrecords: 406000/407932\n",
      "train.tfrecords: 407000/407932\n",
      "val.tfrecords: 0/101982\n",
      "val.tfrecords: 1000/101982\n",
      "val.tfrecords: 2000/101982\n",
      "val.tfrecords: 3000/101982\n",
      "val.tfrecords: 4000/101982\n",
      "val.tfrecords: 5000/101982\n",
      "val.tfrecords: 6000/101982\n",
      "val.tfrecords: 7000/101982\n",
      "val.tfrecords: 8000/101982\n",
      "val.tfrecords: 9000/101982\n",
      "val.tfrecords: 10000/101982\n",
      "val.tfrecords: 11000/101982\n",
      "val.tfrecords: 12000/101982\n",
      "val.tfrecords: 13000/101982\n",
      "val.tfrecords: 14000/101982\n",
      "val.tfrecords: 15000/101982\n",
      "val.tfrecords: 16000/101982\n",
      "val.tfrecords: 17000/101982\n",
      "val.tfrecords: 18000/101982\n",
      "val.tfrecords: 19000/101982\n",
      "val.tfrecords: 20000/101982\n",
      "val.tfrecords: 21000/101982\n",
      "val.tfrecords: 22000/101982\n",
      "val.tfrecords: 23000/101982\n",
      "val.tfrecords: 24000/101982\n",
      "val.tfrecords: 25000/101982\n",
      "val.tfrecords: 26000/101982\n",
      "val.tfrecords: 27000/101982\n",
      "val.tfrecords: 28000/101982\n",
      "val.tfrecords: 29000/101982\n",
      "val.tfrecords: 30000/101982\n",
      "val.tfrecords: 31000/101982\n",
      "val.tfrecords: 32000/101982\n",
      "val.tfrecords: 33000/101982\n",
      "val.tfrecords: 34000/101982\n",
      "val.tfrecords: 35000/101982\n",
      "val.tfrecords: 36000/101982\n",
      "val.tfrecords: 37000/101982\n",
      "val.tfrecords: 38000/101982\n",
      "val.tfrecords: 39000/101982\n",
      "val.tfrecords: 40000/101982\n",
      "val.tfrecords: 41000/101982\n",
      "val.tfrecords: 42000/101982\n",
      "val.tfrecords: 43000/101982\n",
      "val.tfrecords: 44000/101982\n",
      "val.tfrecords: 45000/101982\n",
      "val.tfrecords: 46000/101982\n",
      "val.tfrecords: 47000/101982\n",
      "val.tfrecords: 48000/101982\n",
      "val.tfrecords: 49000/101982\n",
      "val.tfrecords: 50000/101982\n",
      "val.tfrecords: 51000/101982\n",
      "val.tfrecords: 52000/101982\n",
      "val.tfrecords: 53000/101982\n",
      "val.tfrecords: 54000/101982\n",
      "val.tfrecords: 55000/101982\n"
     ]
    },
    {
     "ename": "ResourceExhaustedError",
     "evalue": "val.tfrecords; No space left on device",
     "output_type": "error",
     "traceback": [
      "\u001b[0;31m---------------------------------------------------------------------------\u001b[0m",
      "\u001b[0;31mResourceExhaustedError\u001b[0m                    Traceback (most recent call last)",
      "\u001b[0;32m<ipython-input-19-efbf8750ed6b>\u001b[0m in \u001b[0;36m<module>\u001b[0;34m\u001b[0m\n\u001b[1;32m      1\u001b[0m \u001b[0mcreateDataRecord\u001b[0m\u001b[0;34m(\u001b[0m\u001b[0;34m'train.tfrecords'\u001b[0m\u001b[0;34m,\u001b[0m \u001b[0mtrain_fnames\u001b[0m\u001b[0;34m,\u001b[0m \u001b[0mtrain_category2ids\u001b[0m\u001b[0;34m)\u001b[0m\u001b[0;34m\u001b[0m\u001b[0;34m\u001b[0m\u001b[0m\n\u001b[0;32m----> 2\u001b[0;31m \u001b[0mcreateDataRecord\u001b[0m\u001b[0;34m(\u001b[0m\u001b[0;34m'val.tfrecords'\u001b[0m\u001b[0;34m,\u001b[0m \u001b[0mval_fnames\u001b[0m\u001b[0;34m,\u001b[0m \u001b[0mtrain_category2ids\u001b[0m\u001b[0;34m)\u001b[0m\u001b[0;34m\u001b[0m\u001b[0;34m\u001b[0m\u001b[0m\n\u001b[0m\u001b[1;32m      3\u001b[0m \u001b[0mcreateDataRecord\u001b[0m\u001b[0;34m(\u001b[0m\u001b[0;34m'test.tfrecords'\u001b[0m\u001b[0;34m,\u001b[0m \u001b[0mtest_fnames\u001b[0m\u001b[0;34m,\u001b[0m \u001b[0mtest_category2ids\u001b[0m\u001b[0;34m)\u001b[0m\u001b[0;34m\u001b[0m\u001b[0;34m\u001b[0m\u001b[0m\n",
      "\u001b[0;32m<ipython-input-18-74d0a996df70>\u001b[0m in \u001b[0;36mcreateDataRecord\u001b[0;34m(out_filename, fnames, category2ids)\u001b[0m\n\u001b[1;32m     32\u001b[0m \u001b[0;34m\u001b[0m\u001b[0m\n\u001b[1;32m     33\u001b[0m         \u001b[0;31m# Serialize to string and write on the file\u001b[0m\u001b[0;34m\u001b[0m\u001b[0;34m\u001b[0m\u001b[0;34m\u001b[0m\u001b[0m\n\u001b[0;32m---> 34\u001b[0;31m         \u001b[0mwriter\u001b[0m\u001b[0;34m.\u001b[0m\u001b[0mwrite\u001b[0m\u001b[0;34m(\u001b[0m\u001b[0mexample\u001b[0m\u001b[0;34m.\u001b[0m\u001b[0mSerializeToString\u001b[0m\u001b[0;34m(\u001b[0m\u001b[0;34m)\u001b[0m\u001b[0;34m)\u001b[0m\u001b[0;34m\u001b[0m\u001b[0;34m\u001b[0m\u001b[0m\n\u001b[0m\u001b[1;32m     35\u001b[0m \u001b[0;34m\u001b[0m\u001b[0m\n\u001b[1;32m     36\u001b[0m     \u001b[0mwriter\u001b[0m\u001b[0;34m.\u001b[0m\u001b[0mclose\u001b[0m\u001b[0;34m(\u001b[0m\u001b[0;34m)\u001b[0m\u001b[0;34m\u001b[0m\u001b[0;34m\u001b[0m\u001b[0m\n",
      "\u001b[0;32m~/.local/lib/python3.6/site-packages/tensorflow/python/lib/io/tf_record.py\u001b[0m in \u001b[0;36mwrite\u001b[0;34m(self, record)\u001b[0m\n\u001b[1;32m    234\u001b[0m     \"\"\"\n\u001b[1;32m    235\u001b[0m     \u001b[0;32mwith\u001b[0m \u001b[0merrors\u001b[0m\u001b[0;34m.\u001b[0m\u001b[0mraise_exception_on_not_ok_status\u001b[0m\u001b[0;34m(\u001b[0m\u001b[0;34m)\u001b[0m \u001b[0;32mas\u001b[0m \u001b[0mstatus\u001b[0m\u001b[0;34m:\u001b[0m\u001b[0;34m\u001b[0m\u001b[0;34m\u001b[0m\u001b[0m\n\u001b[0;32m--> 236\u001b[0;31m       \u001b[0mself\u001b[0m\u001b[0;34m.\u001b[0m\u001b[0m_writer\u001b[0m\u001b[0;34m.\u001b[0m\u001b[0mWriteRecord\u001b[0m\u001b[0;34m(\u001b[0m\u001b[0mrecord\u001b[0m\u001b[0;34m,\u001b[0m \u001b[0mstatus\u001b[0m\u001b[0;34m)\u001b[0m\u001b[0;34m\u001b[0m\u001b[0;34m\u001b[0m\u001b[0m\n\u001b[0m\u001b[1;32m    237\u001b[0m \u001b[0;34m\u001b[0m\u001b[0m\n\u001b[1;32m    238\u001b[0m   \u001b[0;32mdef\u001b[0m \u001b[0mflush\u001b[0m\u001b[0;34m(\u001b[0m\u001b[0mself\u001b[0m\u001b[0;34m)\u001b[0m\u001b[0;34m:\u001b[0m\u001b[0;34m\u001b[0m\u001b[0;34m\u001b[0m\u001b[0m\n",
      "\u001b[0;32m~/.local/lib/python3.6/site-packages/tensorflow/python/framework/errors_impl.py\u001b[0m in \u001b[0;36m__exit__\u001b[0;34m(self, type_arg, value_arg, traceback_arg)\u001b[0m\n\u001b[1;32m    546\u001b[0m             \u001b[0;32mNone\u001b[0m\u001b[0;34m,\u001b[0m \u001b[0;32mNone\u001b[0m\u001b[0;34m,\u001b[0m\u001b[0;34m\u001b[0m\u001b[0;34m\u001b[0m\u001b[0m\n\u001b[1;32m    547\u001b[0m             \u001b[0mcompat\u001b[0m\u001b[0;34m.\u001b[0m\u001b[0mas_text\u001b[0m\u001b[0;34m(\u001b[0m\u001b[0mc_api\u001b[0m\u001b[0;34m.\u001b[0m\u001b[0mTF_Message\u001b[0m\u001b[0;34m(\u001b[0m\u001b[0mself\u001b[0m\u001b[0;34m.\u001b[0m\u001b[0mstatus\u001b[0m\u001b[0;34m.\u001b[0m\u001b[0mstatus\u001b[0m\u001b[0;34m)\u001b[0m\u001b[0;34m)\u001b[0m\u001b[0;34m,\u001b[0m\u001b[0;34m\u001b[0m\u001b[0;34m\u001b[0m\u001b[0m\n\u001b[0;32m--> 548\u001b[0;31m             c_api.TF_GetCode(self.status.status))\n\u001b[0m\u001b[1;32m    549\u001b[0m     \u001b[0;31m# Delete the underlying status object from memory otherwise it stays alive\u001b[0m\u001b[0;34m\u001b[0m\u001b[0;34m\u001b[0m\u001b[0;34m\u001b[0m\u001b[0m\n\u001b[1;32m    550\u001b[0m     \u001b[0;31m# as there is a reference to status from this from the traceback due to\u001b[0m\u001b[0;34m\u001b[0m\u001b[0;34m\u001b[0m\u001b[0;34m\u001b[0m\u001b[0m\n",
      "\u001b[0;31mResourceExhaustedError\u001b[0m: val.tfrecords; No space left on device"
     ]
    }
   ],
   "source": [
    "createDataRecord('train.tfrecords', train_fnames, train_category2ids)\n",
    "createDataRecord('val.tfrecords', val_fnames, train_category2ids)\n",
    "createDataRecord('test.tfrecords', test_fnames, test_category2ids)"
   ]
  },
  {
   "cell_type": "code",
   "execution_count": 46,
   "metadata": {},
   "outputs": [],
   "source": [
    "from PIL import Image"
   ]
  },
  {
   "cell_type": "code",
   "execution_count": 48,
   "metadata": {},
   "outputs": [],
   "source": [
    "im = Image.open(filenames[100])"
   ]
  },
  {
   "cell_type": "code",
   "execution_count": 49,
   "metadata": {},
   "outputs": [],
   "source": [
    "import matplotlib.pyplot as plt"
   ]
  },
  {
   "cell_type": "code",
   "execution_count": 50,
   "metadata": {},
   "outputs": [
    {
     "data": {
      "text/plain": [
       "<matplotlib.image.AxesImage at 0x7f8228d7a9b0>"
      ]
     },
     "execution_count": 50,
     "metadata": {},
     "output_type": "execute_result"
    },
    {
     "data": {
      "image/png": "[encoded data removed]",
      "text/plain": [
       "<Figure size 432x288 with 1 Axes>"
      ]
     },
     "metadata": {
      "needs_background": "light"
     },
     "output_type": "display_data"
    }
   ],
   "source": [
    "plt.imshow(im)"
   ]
  },
  {
   "cell_type": "code",
   "execution_count": 51,
   "metadata": {},
   "outputs": [
    {
     "data": {
      "text/plain": [
       "(128, 256)"
      ]
     },
     "execution_count": 51,
     "metadata": {},
     "output_type": "execute_result"
    }
   ],
   "source": [
    "im.size"
   ]
  },
  {
   "cell_type": "code",
   "execution_count": 52,
   "metadata": {},
   "outputs": [],
   "source": [
    "im_np = np.array(im)"
   ]
  },
  {
   "cell_type": "code",
   "execution_count": 53,
   "metadata": {},
   "outputs": [
    {
     "data": {
      "text/plain": [
       "(256, 128, 3)"
      ]
     },
     "execution_count": 53,
     "metadata": {},
     "output_type": "execute_result"
    }
   ],
   "source": [
    "im_np.shape"
   ]
  },
  {
   "cell_type": "code",
   "execution_count": 55,
   "metadata": {},
   "outputs": [],
   "source": [
    "im_np = im_np/255.0"
   ]
  },
  {
   "cell_type": "code",
   "execution_count": 56,
   "metadata": {},
   "outputs": [
    {
     "data": {
      "text/plain": [
       "(0.00784313725490196, 1.0)"
      ]
     },
     "execution_count": 56,
     "metadata": {},
     "output_type": "execute_result"
    }
   ],
   "source": [
    "im_np.min(), im_np.max()"
   ]
  },
  {
   "cell_type": "code",
   "execution_count": 57,
   "metadata": {},
   "outputs": [
    {
     "data": {
      "text/plain": [
       "<matplotlib.image.AxesImage at 0x7f82288364a8>"
      ]
     },
     "execution_count": 57,
     "metadata": {},
     "output_type": "execute_result"
    },
    {
     "data": {
      "image/png": "[encoded data removed]",
      "text/plain": [
       "<Figure size 432x288 with 1 Axes>"
      ]
     },
     "metadata": {
      "needs_background": "light"
     },
     "output_type": "display_data"
    }
   ],
   "source": [
    "plt.imshow(im_np)"
   ]
  },
  {
   "cell_type": "code",
   "execution_count": null,
   "metadata": {},
   "outputs": [],
   "source": [
    "from random import shuffle\n",
    "import glob\n",
    "import sys\n",
    "import cv2\n",
    "import numpy as np\n",
    "#import skimage.io as io\n",
    "import tensorflow as tf\n",
    "\n",
    "def _int64_feature(value):\n",
    "    return tf.train.Feature(int64_list=tf.train.Int64List(value=[value]))\n",
    "def _bytes_feature(value):\n",
    "    return tf.train.Feature(bytes_list=tf.train.BytesList(value=[value]))\n",
    "\n",
    "def load_image(addr):\n",
    "    # read an image and resize to (224, 224)\n",
    "    # cv2 load images as BGR, convert it to RGB\n",
    "    img = cv2.imread(addr)\n",
    "    if img is None:\n",
    "        return None\n",
    "    img = cv2.resize(img, (224, 224), interpolation=cv2.INTER_CUBIC)\n",
    "    img = cv2.cvtColor(img, cv2.COLOR_BGR2RGB)\n",
    "    return img\n",
    " \n",
    "def createDataRecord(out_filename, addrs, labels):\n",
    "    # open the TFRecords file\n",
    "    writer = tf.python_io.TFRecordWriter(out_filename)\n",
    "    for i in range(len(addrs)):\n",
    "        # print how many images are saved every 1000 images\n",
    "        if not i % 1000:\n",
    "            print('Train data: {}/{}'.format(i, len(addrs)))\n",
    "            sys.stdout.flush()\n",
    "        # Load the image\n",
    "        img = load_image(addrs[i])\n",
    "\n",
    "        label = labels[i]\n",
    "\n",
    "        if img is None:\n",
    "            continue\n",
    "\n",
    "        # Create a feature\n",
    "        feature = {\n",
    "            'image_raw': _bytes_feature(img.tostring()),\n",
    "            'label': _int64_feature(label)\n",
    "        }\n",
    "        # Create an example protocol buffer\n",
    "        example = tf.train.Example(features=tf.train.Features(feature=feature))\n",
    "        \n",
    "        # Serialize to string and write on the file\n",
    "        writer.write(example.SerializeToString())\n",
    "        \n",
    "    writer.close()\n",
    "    sys.stdout.flush()\n",
    "\n",
    "cat_dog_train_path = 'PetImages/*/*.jpg'\n",
    "# read addresses and labels from the 'train' folder\n",
    "addrs = glob.glob(cat_dog_train_path)\n",
    "labels = [0 if 'Cat' in addr else 1 for addr in addrs]  # 0 = Cat, 1 = Dog\n",
    "\n",
    "# to shuffle data\n",
    "c = list(zip(addrs, labels))\n",
    "shuffle(c)\n",
    "addrs, labels = zip(*c)\n",
    "    \n",
    "# Divide the data into 60% train, 20% validation, and 20% test\n",
    "train_addrs = addrs[0:int(0.6*len(addrs))]\n",
    "train_labels = labels[0:int(0.6*len(labels))]\n",
    "val_addrs = addrs[int(0.6*len(addrs)):int(0.8*len(addrs))]\n",
    "val_labels = labels[int(0.6*len(addrs)):int(0.8*len(addrs))]\n",
    "test_addrs = addrs[int(0.8*len(addrs)):]\n",
    "test_labels = labels[int(0.8*len(labels)):]\n",
    "\n",
    "createDataRecord('train.tfrecords', train_addrs, train_labels)\n",
    "createDataRecord('val.tfrecords', val_addrs, val_labels)\n",
    "createDataRecord('test.tfrecords', test_addrs, test_labels)\n"
   ]
  },
  {
   "cell_type": "code",
   "execution_count": null,
   "metadata": {},
   "outputs": [],
   "source": [
    "#If the TFRecord files already exist in the directory, then exit without creating the files again\n",
    "    if _dataset_exists(dataset_dir = FLAGS.dataset_dir, _NUM_SHARDS = FLAGS.num_shards, output_filename = FLAGS.tfrecord_filename):\n",
    "        print('Dataset files already exist. Exiting without re-creating them.')\n",
    "        return None\n",
    "\n",
    "    #Get a list of photo_filenames like ['123.jpg', '456.jpg'...] and a list of sorted class names from parsing the subdirectories.\n",
    "    photo_filenames, class_names = _get_filenames_and_classes(FLAGS.dataset_dir)\n",
    "\n",
    "    #Refer each of the class name to a specific integer number for predictions later\n",
    "    class_names_to_ids = dict(zip(class_names, range(len(class_names))))\n",
    "\n",
    "    #Find the number of validation examples we need\n",
    "    num_validation = int(FLAGS.validation_size * len(photo_filenames))\n",
    "\n",
    "    # Divide the training datasets into train and test:\n",
    "    random.seed(FLAGS.random_seed)\n",
    "    random.shuffle(photo_filenames)\n",
    "    training_filenames = photo_filenames[num_validation:]\n",
    "    validation_filenames = photo_filenames[:num_validation]\n",
    "\n",
    "    # First, convert the training and validation sets.\n",
    "    _convert_dataset('train', training_filenames, class_names_to_ids,\n",
    "                     dataset_dir = FLAGS.dataset_dir, tfrecord_filename = FLAGS.tfrecord_filename, _NUM_SHARDS = FLAGS.num_shards)\n",
    "    _convert_dataset('validation', validation_filenames, class_names_to_ids,\n",
    "                     dataset_dir = FLAGS.dataset_dir, tfrecord_filename = FLAGS.tfrecord_filename, _NUM_SHARDS = FLAGS.num_shards)\n",
    "\n",
    "    # Finally, write the labels file:\n",
    "    labels_to_class_names = dict(zip(range(len(class_names)), class_names))\n",
    "    write_label_file(labels_to_class_names, FLAGS.dataset_dir)\n",
    "    write_data_summary(num_validation, len(photo_filenames), FLAGS.dataset_dir)\n",
    "\n",
    "    print('\\nFinished converting the %s dataset!' % (FLAGS.tfrecord_filename))\n"
   ]
  },
  {
   "cell_type": "code",
   "execution_count": null,
   "metadata": {},
   "outputs": [],
   "source": [
    "import math\n",
    "import os\n",
    "import sys\n",
    "import tensorflow as tf\n",
    "\n",
    "slim = tf.contrib.slim\n",
    "\n",
    "#State the labels filename\n",
    "LABELS_FILENAME = 'labels.txt'\n",
    "DATA_SUMMARY_FILENAME = 'data_summary.txt'\n",
    "#===================================================  Dataset Utils  ===================================================\n",
    "\n",
    "def int64_feature(values):\n",
    "  \"\"\"Returns a TF-Feature of int64s.\n",
    "  Args:\n",
    "    values: A scalar or list of values.\n",
    "  Returns:\n",
    "    a TF-Feature.\n",
    "  \"\"\"\n",
    "  if not isinstance(values, (tuple, list)):\n",
    "    values = [values]\n",
    "  return tf.train.Feature(int64_list=tf.train.Int64List(value=values))\n",
    "\n",
    "\n",
    "def bytes_feature(values):\n",
    "  \"\"\"Returns a TF-Feature of bytes.\n",
    "  Args:\n",
    "    values: A string.\n",
    "  Returns:\n",
    "    a TF-Feature.\n",
    "  \"\"\"\n",
    "  return tf.train.Feature(bytes_list=tf.train.BytesList(value=[values]))\n",
    "\n",
    "\n",
    "def image_to_tfexample(image_data, image_format, height, width, class_id):\n",
    "  return tf.train.Example(features=tf.train.Features(feature={\n",
    "      'image/encoded': bytes_feature(image_data),\n",
    "      'image/format': bytes_feature(image_format),\n",
    "      'image/class/label': int64_feature(class_id),\n",
    "      'image/height': int64_feature(height),\n",
    "      'image/width': int64_feature(width),\n",
    "  }))\n",
    "\n",
    "def write_label_file(labels_to_class_names, dataset_dir,\n",
    "                     filename=LABELS_FILENAME):\n",
    "  \"\"\"Writes a file with the list of class names.\n",
    "  Args:\n",
    "    labels_to_class_names: A map of (integer) labels to class names.\n",
    "    dataset_dir: The directory in which the labels file should be written.\n",
    "    filename: The filename where the class names are written.\n",
    "  \"\"\"\n",
    "  labels_filename = os.path.join(dataset_dir, filename)\n",
    "  with tf.gfile.Open(labels_filename, 'w') as f:\n",
    "    for label in labels_to_class_names:\n",
    "      class_name = labels_to_class_names[label]\n",
    "      f.write('%d:%s\\n' % (label, class_name))\n",
    "\n",
    "def write_data_summary(num_validation, num_dataset, dataset_dir,\n",
    "                     filename=DATA_SUMMARY_FILENAME):\n",
    "  \"\"\"Writes a file with the number of validation and dataset images.\n",
    "  Args:\n",
    "    num_validation: number of validation images.\n",
    "    num_dataset: number of dataset images.\n",
    "    filename: The filename where the class names are written.\n",
    "  \"\"\"\n",
    "  data_filename = os.path.join(dataset_dir, filename)\n",
    "  with tf.gfile.Open(data_filename, 'w') as f:\n",
    "    f.write('%d\\n%d' % (num_validation, num_dataset))\n",
    "\n",
    "\n",
    "def has_labels(dataset_dir, filename=LABELS_FILENAME):\n",
    "  \"\"\"Specifies whether or not the dataset directory contains a label map file.\n",
    "  Args:\n",
    "    dataset_dir: The directory in which the labels file is found.\n",
    "    filename: The filename where the class names are written.\n",
    "  Returns:\n",
    "    `True` if the labels file exists and `False` otherwise.\n",
    "  \"\"\"\n",
    "  return tf.gfile.Exists(os.path.join(dataset_dir, filename))\n",
    "\n",
    "\n",
    "def read_label_file(dataset_dir, filename=LABELS_FILENAME):\n",
    "  \"\"\"Reads the labels file and returns a mapping from ID to class name.\n",
    "  Args:\n",
    "    dataset_dir: The directory in which the labels file is found.\n",
    "    filename: The filename where the class names are written.\n",
    "  Returns:\n",
    "    A map from a label (integer) to class name.\n",
    "  \"\"\"\n",
    "  labels_filename = os.path.join(dataset_dir, filename)\n",
    "  with tf.gfile.Open(labels_filename, 'r') as f:\n",
    "    lines = f.read().decode()\n",
    "  lines = lines.split('\\n')\n",
    "  lines = filter(None, lines)\n",
    "\n",
    "  labels_to_class_names = {}\n",
    "  for line in lines:\n",
    "    index = line.index(':')\n",
    "    labels_to_class_names[int(line[:index])] = line[index+1:]\n",
    "  return labels_to_class_names\n",
    "\n",
    "#=======================================  Conversion Utils  ===================================================\n",
    "\n",
    "#Create an image reader object for easy reading of the images\n",
    "class ImageReader(object):\n",
    "  \"\"\"Helper class that provides TensorFlow image coding utilities.\"\"\"\n",
    "\n",
    "  def __init__(self):\n",
    "    # Initializes function that decodes RGB JPEG data.\n",
    "    self._decode_jpeg_data = tf.placeholder(dtype=tf.string)\n",
    "    self._decode_jpeg = tf.image.decode_jpeg(self._decode_jpeg_data, channels=3)\n",
    "\n",
    "  def read_image_dims(self, sess, image_data):\n",
    "    image = self.decode_jpeg(sess, image_data)\n",
    "    return image.shape[0], image.shape[1]\n",
    "\n",
    "  def decode_jpeg(self, sess, image_data):\n",
    "    image = sess.run(self._decode_jpeg,\n",
    "                     feed_dict={self._decode_jpeg_data: image_data})\n",
    "    assert len(image.shape) == 3\n",
    "    assert image.shape[2] == 3\n",
    "    return image\n",
    "\n",
    "\n",
    "def _get_filenames_and_classes(dataset_dir):\n",
    "  \"\"\"Returns a list of filenames and inferred class names.\n",
    "  Args:\n",
    "    dataset_dir: A directory containing a set of subdirectories representing\n",
    "      class names. Each subdirectory should contain PNG or JPG encoded images.\n",
    "  Returns:\n",
    "    A list of image file paths, relative to `dataset_dir` and the list of\n",
    "    subdirectories, representing class names.\n",
    "  \"\"\"\n",
    "  training = 'training_dataset'\n",
    "  dataset_main_folder_list = [name for name in os.listdir(dataset_dir) if os.path.isdir(os.path.join(dataset_dir,name))]\n",
    "  dataset_root = os.path.join(dataset_dir, training)\n",
    "\n",
    "  directories = []\n",
    "  class_names = []\n",
    "  photo_filenames = []\n",
    "  if os.path.exists(dataset_root):\n",
    "    for filename in os.listdir(dataset_root):\n",
    "      path = os.path.join(dataset_root, filename)\n",
    "      if os.path.isdir(path):\n",
    "        directories.append(path)\n",
    "        class_names.append(filename)\n",
    "\n",
    "    for directory in directories:\n",
    "      for filename in os.listdir(directory):\n",
    "        path = os.path.join(directory, filename)\n",
    "        photo_filenames.append(path)\n",
    "  \n",
    "  else :\n",
    "    raise ValueError('Root dataset folder do not contain: {}'.format(training))\n",
    "\n",
    "  return photo_filenames, sorted(class_names)\n",
    "\n",
    "\n",
    "def _get_dataset_filename(dataset_dir, split_name, shard_id, tfrecord_filename, _NUM_SHARDS):\n",
    "  output_filename = '%s_%s_%05d-of-%05d.tfrecord' % (\n",
    "      tfrecord_filename, split_name, shard_id, _NUM_SHARDS)\n",
    "  return os.path.join(dataset_dir, output_filename)\n",
    "\n",
    "\n",
    "def _convert_dataset(split_name, filenames, class_names_to_ids, dataset_dir, tfrecord_filename, _NUM_SHARDS):\n",
    "  \"\"\"Converts the given filenames to a TFRecord dataset.\n",
    "  Args:\n",
    "    split_name: The name of the dataset, either 'train' or 'validation'.\n",
    "    filenames: A list of absolute paths to png or jpg images.\n",
    "    class_names_to_ids: A dictionary from class names (strings) to ids\n",
    "      (integers).\n",
    "    dataset_dir: The directory where the converted datasets are stored.\n",
    "  \"\"\"\n",
    "  assert split_name in ['train', 'validation']\n",
    "\n",
    "  num_per_shard = int(math.ceil(len(filenames) / float(_NUM_SHARDS)))\n",
    "\n",
    "  with tf.Graph().as_default():\n",
    "    image_reader = ImageReader()\n",
    "\n",
    "    with tf.Session('') as sess:\n",
    "\n",
    "      for shard_id in range(_NUM_SHARDS):\n",
    "        output_filename = _get_dataset_filename(\n",
    "            dataset_dir, split_name, shard_id, tfrecord_filename = tfrecord_filename, _NUM_SHARDS = _NUM_SHARDS)\n",
    "\n",
    "        with tf.python_io.TFRecordWriter(output_filename) as tfrecord_writer:\n",
    "          start_ndx = shard_id * num_per_shard\n",
    "          end_ndx = min((shard_id+1) * num_per_shard, len(filenames))\n",
    "          for i in range(start_ndx, end_ndx):\n",
    "            sys.stdout.write('\\r>> Converting image %d/%d shard %d' % (\n",
    "                i+1, len(filenames), shard_id))\n",
    "            sys.stdout.flush()\n",
    "\n",
    "            # Read the filename:\n",
    "            image_data = tf.gfile.FastGFile(filenames[i], 'rb').read()\n",
    "            height, width = image_reader.read_image_dims(sess, image_data)\n",
    "\n",
    "            class_name = os.path.basename(os.path.dirname(filenames[i]))\n",
    "            class_id = class_names_to_ids[class_name]\n",
    "\n",
    "            example = image_to_tfexample(\n",
    "                image_data, b'jpg', height, width, class_id)\n",
    "            tfrecord_writer.write(example.SerializeToString())\n",
    "\n",
    "  sys.stdout.write('\\n')\n",
    "  sys.stdout.flush()\n",
    "\n",
    "def _dataset_exists(dataset_dir, _NUM_SHARDS, output_filename):\n",
    "  for split_name in ['train', 'validation']:\n",
    "    for shard_id in range(_NUM_SHARDS):\n",
    "      tfrecord_filename = _get_dataset_filename(\n",
    "          dataset_dir, split_name, shard_id, output_filename, _NUM_SHARDS)\n",
    "      if not tf.gfile.Exists(tfrecord_filename):\n",
    "        return False\n",
    "  return True"
   ]
  },
  {
   "cell_type": "code",
   "execution_count": null,
   "metadata": {},
   "outputs": [],
   "source": []
  }
 ],
 "metadata": {
  "kernelspec": {
   "display_name": "Python 3",
   "language": "python",
   "name": "python3"
  },
  "language_info": {
   "codemirror_mode": {
    "name": "ipython",
    "version": 3
   },
   "file_extension": ".py",
   "mimetype": "text/x-python",
   "name": "python",
   "nbconvert_exporter": "python",
   "pygments_lexer": "ipython3",
   "version": "3.6.9"
  }
 },
 "nbformat": 4,
 "nbformat_minor": 4
}
